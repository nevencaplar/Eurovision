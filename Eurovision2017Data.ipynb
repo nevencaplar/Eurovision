{
 "cells": [
  {
   "cell_type": "code",
   "execution_count": 33,
   "metadata": {
    "collapsed": false
   },
   "outputs": [],
   "source": [
    "import tweepy\n",
    "import sys\n",
    "import csv\n",
    "import os\n",
    "os.chdir('/home/caplarn/Documents/Astrodataiscool/Eurovision2017')"
   ]
  },
  {
   "cell_type": "code",
   "execution_count": 34,
   "metadata": {
    "collapsed": true
   },
   "outputs": [],
   "source": [
    "from twitter_authentication import CONSUMER_KEY, CONSUMER_SECRET, ACCESS_TOKEN, ACCESS_TOKEN_SECRET"
   ]
  },
  {
   "cell_type": "code",
   "execution_count": 35,
   "metadata": {
    "collapsed": true
   },
   "outputs": [],
   "source": [
    "auth = tweepy.OAuthHandler(CONSUMER_KEY, CONSUMER_SECRET)\n",
    "auth.set_access_token(ACCESS_TOKEN, ACCESS_TOKEN_SECRET)"
   ]
  },
  {
   "cell_type": "code",
   "execution_count": 36,
   "metadata": {
    "collapsed": true
   },
   "outputs": [],
   "source": [
    "api = tweepy.API(auth,wait_on_rate_limit=True,wait_on_rate_limit_notify=True,retry_delay=900)"
   ]
  },
  {
   "cell_type": "markdown",
   "metadata": {},
   "source": [
    "# 1st semi"
   ]
  },
  {
   "cell_type": "code",
   "execution_count": 37,
   "metadata": {
    "collapsed": false
   },
   "outputs": [
    {
     "name": "stdout",
     "output_type": "stream",
     "text": [
      "862002596306862080\n"
     ]
    }
   ],
   "source": [
    "low_limit=862002596306862080\n",
    "print(low_limit)\n",
    "#This is time at 17.00 twitter time"
   ]
  },
  {
   "cell_type": "code",
   "execution_count": 38,
   "metadata": {
    "collapsed": false
   },
   "outputs": [],
   "source": [
    "high_limit=862098548984168448\n",
    "#This is time at 24.00 twitter time"
   ]
  },
  {
   "cell_type": "code",
   "execution_count": 39,
   "metadata": {
    "collapsed": true
   },
   "outputs": [],
   "source": [
    "list_of_names_of_countries=['swe','geo','aus','alb','bel','mne','fin','aze','por','gre','pol','mda','isl','cze','cyp'\n",
    "                            ,'arm','slo','lat']"
   ]
  },
  {
   "cell_type": "code",
   "execution_count": 40,
   "metadata": {
    "collapsed": false
   },
   "outputs": [
    {
     "name": "stdout",
     "output_type": "stream",
     "text": [
      "Rate limit reached. Sleeping for: 717\n",
      "Rate limit reached. Sleeping for: 732\n"
     ]
    }
   ],
   "source": [
    "for name_of_country in list_of_names_of_countries[10:len(list_of_names_of_countries)]:\n",
    "    for tweet in tweepy.Cursor(api.search,q=\"#\"+name_of_country,count=100,max_id=high_limit,since_id=low_limit,include_entitles=True).items():\n",
    "        try:\t\n",
    "            text1 = tweet.created_at\n",
    "            text2 = tweet.user.location.encode('utf-8')\n",
    "            text3 = tweet.id_str\n",
    "            #print (text1,text2,text3)\n",
    "            result=[str(text1),\",\",text2,\",\",str(text3),\",newline,\"]\n",
    "            fullpath = (\"/home/caplarn/Documents/Astrodataiscool/Eurovision2017/Data/\"+name_of_country+\".txt\")\n",
    "            outfile = open(fullpath, 'a')\n",
    "            outfile.writelines(result)\n",
    "        except tweepy.TweepError:\n",
    "                time.sleep(60)\n",
    "        continue"
   ]
  },
  {
   "cell_type": "code",
   "execution_count": 41,
   "metadata": {
    "collapsed": false
   },
   "outputs": [
    {
     "name": "stdout",
     "output_type": "stream",
     "text": [
      "Rate limit reached. Sleeping for: 736\n",
      "Rate limit reached. Sleeping for: 728\n",
      "Rate limit reached. Sleeping for: 731\n"
     ]
    }
   ],
   "source": [
    "list_of_names_of_countries=['SWEDEN','GEORGIA','AUSTRALIA','ALBANIA','BELGIUM','MONTENEGRO','FINLAND','AZERBAIJAN','PORTUGAL','GREECE','POLAND','MOLDOVA','ICELAND','CZECH REPUBLIC','CYPRUS'\n",
    "                            ,'ARMENIA','SLOVENIA','LATVIA']\n",
    "for name_of_country in list_of_names_of_countries[0:len(list_of_names_of_countries)]:\n",
    "    for tweet in tweepy.Cursor(api.search,q=\"#\"+name_of_country,count=100,max_id=high_limit,since_id=low_limit,include_entitles=True).items():\n",
    "        try:\t\n",
    "            text1 = tweet.created_at\n",
    "            text2 = tweet.user.location.encode('utf-8')\n",
    "            text3 = tweet.id_str\n",
    "            #print (text1,text2,text3)\n",
    "            result=[str(text1),\",\",text2,\",\",str(text3),\",newline,\"]\n",
    "            fullpath = (\"/home/caplarn/Documents/Astrodataiscool/Eurovision2017/Data/\"+name_of_country+\".txt\")\n",
    "            outfile = open(fullpath, 'a')\n",
    "            outfile.writelines(result)\n",
    "        except tweepy.TweepError:\n",
    "                time.sleep(60)\n",
    "        continue"
   ]
  },
  {
   "cell_type": "markdown",
   "metadata": {},
   "source": [
    "# 2nd semi"
   ]
  },
  {
   "cell_type": "code",
   "execution_count": 49,
   "metadata": {
    "collapsed": true
   },
   "outputs": [],
   "source": [
    "low_limit=862703685609873410\n",
    "high_limit=862807494460735489"
   ]
  },
  {
   "cell_type": "code",
   "execution_count": 48,
   "metadata": {
    "collapsed": true
   },
   "outputs": [],
   "source": [
    "list_of_names_of_countries=['srb','aut','mkd','mlt','rom','ned','hun','den','irl','smr','cro','nor','swi','blr','bul'\n",
    "                            ,'ltu','est','isr']"
   ]
  },
  {
   "cell_type": "code",
   "execution_count": 50,
   "metadata": {
    "collapsed": false
   },
   "outputs": [
    {
     "name": "stdout",
     "output_type": "stream",
     "text": [
      "Rate limit reached. Sleeping for: 653\n",
      "Rate limit reached. Sleeping for: 744\n",
      "Rate limit reached. Sleeping for: 748\n",
      "Rate limit reached. Sleeping for: 749\n",
      "Rate limit reached. Sleeping for: 753\n",
      "Rate limit reached. Sleeping for: 738\n"
     ]
    }
   ],
   "source": [
    "for name_of_country in list_of_names_of_countries[0:len(list_of_names_of_countries)]:\n",
    "    for tweet in tweepy.Cursor(api.search,q=\"#\"+name_of_country,count=100,max_id=high_limit,since_id=low_limit,include_entitles=True).items():\n",
    "        try:\t\n",
    "            text1 = tweet.created_at\n",
    "            text2 = tweet.user.location.encode('utf-8')\n",
    "            text3 = tweet.id_str\n",
    "            #print (text1,text2,text3)\n",
    "            result=[str(text1),\",\",text2,\",\",str(text3),\",newline,\"]\n",
    "            fullpath = (\"/home/caplarn/Documents/Astrodataiscool/Eurovision2017/Data/\"+name_of_country+\".txt\")\n",
    "            outfile = open(fullpath, 'a')\n",
    "            outfile.writelines(result)\n",
    "        except tweepy.TweepError:\n",
    "                time.sleep(60)\n",
    "        continue"
   ]
  },
  {
   "cell_type": "code",
   "execution_count": 51,
   "metadata": {
    "collapsed": false
   },
   "outputs": [
    {
     "name": "stdout",
     "output_type": "stream",
     "text": [
      "Rate limit reached. Sleeping for: 751\n",
      "Rate limit reached. Sleeping for: 751\n"
     ]
    }
   ],
   "source": [
    "list_of_names_of_countries=['SERBIA','AUSTRIA','MACEDONIA','MALTA','ROMANIA','NETHERLANDS','HUNGARY',\n",
    "                            'DENMARK','IRELAND','SAN MARINO','CROATIA','NORWAY','SWITZERLAND',\n",
    "                            'BELARUS','BULGARIA','LITHUANIA','ESTONIA','ISRAEL']\n",
    "for name_of_country in list_of_names_of_countries[0:len(list_of_names_of_countries)]:\n",
    "    for tweet in tweepy.Cursor(api.search,q=\"#\"+name_of_country,count=100,max_id=high_limit,since_id=low_limit,include_entitles=True).items():\n",
    "        try:\t\n",
    "            text1 = tweet.created_at\n",
    "            text2 = tweet.user.location.encode('utf-8')\n",
    "            text3 = tweet.id_str\n",
    "            #print (text1,text2,text3)\n",
    "            result=[str(text1),\",\",text2,\",\",str(text3),\",newline,\"]\n",
    "            fullpath = (\"/home/caplarn/Documents/Astrodataiscool/Eurovision2017/Data/\"+name_of_country+\".txt\")\n",
    "            outfile = open(fullpath, 'a')\n",
    "            outfile.writelines(result)\n",
    "        except tweepy.TweepError:\n",
    "                time.sleep(60)\n",
    "        continue"
   ]
  },
  {
   "cell_type": "code",
   "execution_count": 52,
   "metadata": {
    "collapsed": true
   },
   "outputs": [],
   "source": [
    "#made error for switzerland "
   ]
  },
  {
   "cell_type": "code",
   "execution_count": null,
   "metadata": {
    "collapsed": true
   },
   "outputs": [],
   "source": [
    "name_of_country='sui'\n",
    "for tweet in tweepy.Cursor(api.search,q=\"#\"+name_of_country,count=100,max_id=high_limit,since_id=low_limit,include_entitles=True).items():\n",
    "    try:\t\n",
    "        text1 = tweet.created_at\n",
    "        text2 = tweet.user.location.encode('utf-8')\n",
    "        text3 = tweet.id_str\n",
    "        #print (text1,text2,text3)\n",
    "        result=[str(text1),\",\",text2,\",\",str(text3),\",newline,\"]\n",
    "        fullpath = (\"/home/caplarn/Documents/Astrodataiscool/Eurovision2017/Data/\"+name_of_country+\".txt\")\n",
    "        outfile = open(fullpath, 'a')\n",
    "        outfile.writelines(result)\n",
    "    except tweepy.TweepError:\n",
    "            time.sleep(60)\n",
    "    continue"
   ]
  },
  {
   "cell_type": "code",
   "execution_count": null,
   "metadata": {
    "collapsed": true
   },
   "outputs": [],
   "source": []
  }
 ],
 "metadata": {
  "anaconda-cloud": {},
  "kernelspec": {
   "display_name": "Python [conda root]",
   "language": "python",
   "name": "conda-root-py"
  },
  "language_info": {
   "codemirror_mode": {
    "name": "ipython",
    "version": 2
   },
   "file_extension": ".py",
   "mimetype": "text/x-python",
   "name": "python",
   "nbconvert_exporter": "python",
   "pygments_lexer": "ipython2",
   "version": "2.7.12"
  }
 },
 "nbformat": 4,
 "nbformat_minor": 1
}
