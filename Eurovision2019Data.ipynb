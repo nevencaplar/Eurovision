{
 "cells": [
  {
   "cell_type": "code",
   "execution_count": 3,
   "metadata": {
    "ExecuteTime": {
     "end_time": "2018-05-11T13:55:47.741889Z",
     "start_time": "2018-05-11T13:55:47.602292Z"
    },
    "collapsed": true
   },
   "outputs": [],
   "source": [
    "import tweepy\n",
    "import sys\n",
    "import csv\n",
    "import os\n",
    "os.chdir('/Users/nevencaplar/Documents/Small/Eurovision2019/')"
   ]
  },
  {
   "cell_type": "code",
   "execution_count": 4,
   "metadata": {
    "ExecuteTime": {
     "end_time": "2018-05-11T13:55:48.129494Z",
     "start_time": "2018-05-11T13:55:48.124670Z"
    },
    "collapsed": true
   },
   "outputs": [],
   "source": [
    "from twitter_authentication import CONSUMER_KEY, CONSUMER_SECRET, ACCESS_TOKEN, ACCESS_TOKEN_SECRET"
   ]
  },
  {
   "cell_type": "code",
   "execution_count": 5,
   "metadata": {
    "ExecuteTime": {
     "end_time": "2018-05-11T13:55:48.563755Z",
     "start_time": "2018-05-11T13:55:48.560241Z"
    },
    "collapsed": true
   },
   "outputs": [],
   "source": [
    "auth = tweepy.OAuthHandler(CONSUMER_KEY, CONSUMER_SECRET)\n",
    "auth.set_access_token(ACCESS_TOKEN, ACCESS_TOKEN_SECRET)"
   ]
  },
  {
   "cell_type": "code",
   "execution_count": 6,
   "metadata": {
    "ExecuteTime": {
     "end_time": "2018-05-11T13:55:49.007175Z",
     "start_time": "2018-05-11T13:55:49.003429Z"
    },
    "collapsed": true
   },
   "outputs": [],
   "source": [
    "api = tweepy.API(auth,wait_on_rate_limit=True,wait_on_rate_limit_notify=True,retry_delay=900)"
   ]
  },
  {
   "cell_type": "code",
   "execution_count": 7,
   "metadata": {
    "collapsed": true
   },
   "outputs": [],
   "source": [
    "EurovisionYear='Eurovision2019'\n",
    "twitter_id_per_hour=15098489272878"
   ]
  },
  {
   "cell_type": "markdown",
   "metadata": {},
   "source": [
    "# 1st semi"
   ]
  },
  {
   "cell_type": "code",
   "execution_count": 6,
   "metadata": {
    "ExecuteTime": {
     "end_time": "2018-05-11T18:29:12.585935Z",
     "start_time": "2018-05-11T18:29:12.582141Z"
    }
   },
   "outputs": [
    {
     "name": "stdout",
     "output_type": "stream",
     "text": [
      "1128370646218674177\n"
     ]
    }
   ],
   "source": [
    "low_limit=1128370646218674177\n",
    "print(low_limit)\n",
    "#This is time at 18.45 twitter time\n",
    "# 15 minutes before the start"
   ]
  },
  {
   "cell_type": "code",
   "execution_count": 7,
   "metadata": {
    "ExecuteTime": {
     "end_time": "2018-05-11T18:29:13.002885Z",
     "start_time": "2018-05-11T18:29:12.997804Z"
    },
    "collapsed": true
   },
   "outputs": [],
   "source": [
    "high_limit=1128412167064174592\n",
    "#high_limit=low_limit+3.5*twitter_id_per_hour\n",
    "#This is time should be roughly at 23.18 twitter time\n",
    "# how much later"
   ]
  },
  {
   "cell_type": "code",
   "execution_count": 10,
   "metadata": {
    "ExecuteTime": {
     "end_time": "2018-05-11T18:29:13.483910Z",
     "start_time": "2018-05-11T18:29:13.476710Z"
    },
    "collapsed": true
   },
   "outputs": [],
   "source": [
    "list_of_names_of_countries=['cyp','mne','fin','pol','svn','cze','hun','blr','srb','bel','geo','aus',\n",
    "                            'isl','est','por','gre','smr']"
   ]
  },
  {
   "cell_type": "code",
   "execution_count": 11,
   "metadata": {
    "ExecuteTime": {
     "end_time": "2018-05-11T19:14:18.426779Z",
     "start_time": "2018-05-11T18:29:14.040902Z"
    },
    "scrolled": true
   },
   "outputs": [
    {
     "name": "stdout",
     "output_type": "stream",
     "text": [
      "Waiting for 368 seconds...\n",
      "Waiting for 759 seconds...\n",
      "Waiting for 759 seconds...\n",
      "Waiting for 761 seconds...\n"
     ]
    }
   ],
   "source": [
    "for name_of_country in list_of_names_of_countries[0:len(list_of_names_of_countries)]:\n",
    "    for tweet in tweepy.Cursor(api.search,q=\"#\"+name_of_country,count=100,max_id=high_limit,since_id=low_limit,include_entitles=True).items():\n",
    "        try:\t\n",
    "            text1 = tweet.created_at\n",
    "            text2 = tweet.user.location.encode('utf-8')\n",
    "            text3 = tweet.id_str\n",
    "            \n",
    "            result=[str(text1),\",\",text2,\",\",str(text3),\",newline,\"]\n",
    "            fullpath = (\"/Users/nevencaplar/Documents/Small/\"+str(EurovisionYear)+\"/Data/\"+name_of_country+\".txt\")\n",
    "            outfile = open(fullpath, 'a')\n",
    "            outfile.writelines(result)\n",
    "        except tweepy.TweepError:\n",
    "                time.sleep(60)\n",
    "        continue"
   ]
  },
  {
   "cell_type": "code",
   "execution_count": 12,
   "metadata": {
    "ExecuteTime": {
     "end_time": "2018-05-11T15:58:29.850786Z",
     "start_time": "2018-05-11T14:27:00.850353Z"
    }
   },
   "outputs": [
    {
     "name": "stdout",
     "output_type": "stream",
     "text": [
      "Waiting for 759 seconds...\n"
     ]
    }
   ],
   "source": [
    "list_of_names_of_countries=['CYPRUS','MONTENEGRO','FINLAND','POLAND','SLOVENIA',\n",
    "                            'CZECH REPUBLIC','HUNGARY','BELARUS','SERBIA','BELGIUM',\n",
    "                            'GEORGIA','AUSTRALIA','ICELAND','ESTONIA','PORTUGAL'\n",
    "                            ,'GREECE','SAN MARINO']\n",
    "for name_of_country in list_of_names_of_countries[0:len(list_of_names_of_countries)]:\n",
    "    for tweet in tweepy.Cursor(api.search,q=\"#\"+name_of_country,count=100,max_id=high_limit,since_id=low_limit,include_entitles=True).items():\n",
    "        try:\t\n",
    "            text1 = tweet.created_at\n",
    "            text2 = tweet.user.location.encode('utf-8')\n",
    "            text3 = tweet.id_str\n",
    "            #print (text1,text2,text3)\n",
    "            result=[str(text1),\",\",text2,\",\",str(text3),\",newline,\"]\n",
    "            fullpath = (\"/Users/nevencaplar/Documents/Small/\"+str(EurovisionYear)+\"/Data/\"+name_of_country+\".txt\")\n",
    "            outfile = open(fullpath, 'a')\n",
    "            outfile.writelines(result)\n",
    "        except tweepy.TweepError:\n",
    "                time.sleep(60)\n",
    "        continue"
   ]
  },
  {
   "cell_type": "code",
   "execution_count": 16,
   "metadata": {
    "ExecuteTime": {
     "end_time": "2018-05-11T16:42:40.373719Z",
     "start_time": "2018-05-11T15:58:29.859974Z"
    }
   },
   "outputs": [
    {
     "name": "stdout",
     "output_type": "stream",
     "text": [
      "(datetime.datetime(2019, 5, 14, 21, 26, 25), 'Reims, Champagne-Ardenne', u'1128411265125298176')\n",
      "(datetime.datetime(2019, 5, 14, 21, 25, 9), 'Loos-en-Gohelle, France', u'1128410948572733440')\n",
      "(datetime.datetime(2019, 5, 14, 21, 23, 5), 'Co Durham/North Yorkshire', u'1128410426658697217')\n",
      "(datetime.datetime(2019, 5, 14, 21, 20, 37), 'Bretagne, France', u'1128409805310386187')\n",
      "(datetime.datetime(2019, 5, 14, 21, 19, 51), 'Bondy, France', u'1128409615765528578')\n",
      "(datetime.datetime(2019, 5, 14, 21, 17, 15), 'Thiers Clermont Paris Puteaux', u'1128408958618742785')\n",
      "(datetime.datetime(2019, 5, 14, 21, 14, 35), '', u'1128408288335421440')\n",
      "(datetime.datetime(2019, 5, 14, 21, 13, 33), 'Ile-de-France, France', u'1128408028179521536')\n",
      "(datetime.datetime(2019, 5, 14, 21, 9, 56), 'Paris, France', u'1128407116589543424')\n",
      "(datetime.datetime(2019, 5, 14, 21, 7, 44), 'Paris, France', u'1128406565181108224')\n",
      "(datetime.datetime(2019, 5, 14, 21, 6, 22), 'Paris, France', u'1128406219260088321')\n",
      "(datetime.datetime(2019, 5, 14, 21, 5, 46), 'bi | 21 | \\xf0\\x9f\\x87\\xa9\\xf0\\x9f\\x87\\xaa', u'1128406070190329859')\n",
      "(datetime.datetime(2019, 5, 14, 21, 5, 39), 'Italy', u'1128406041262219264')\n",
      "(datetime.datetime(2019, 5, 14, 21, 4, 52), 'Milano, Lombardia', u'1128405843463081984')\n",
      "(datetime.datetime(2019, 5, 14, 21, 4, 45), '', u'1128405815008821248')\n",
      "(datetime.datetime(2019, 5, 14, 21, 4, 17), 'Israel', u'1128405696112930818')\n",
      "(datetime.datetime(2019, 5, 14, 21, 4, 9), 'England, United Kingdom', u'1128405661543485440')\n",
      "(datetime.datetime(2019, 5, 14, 21, 3, 54), 'Milano', u'1128405599723634688')\n",
      "(datetime.datetime(2019, 5, 14, 21, 3, 24), 'Belgium', u'1128405476021026817')\n",
      "(datetime.datetime(2019, 5, 14, 21, 3, 22), 'That Cardiff', u'1128405467083022336')\n",
      "(datetime.datetime(2019, 5, 14, 21, 3, 20), 'Stow, Scotland', u'1128405457863946241')\n",
      "(datetime.datetime(2019, 5, 14, 21, 3, 16), 'Belgique', u'1128405439954264065')\n",
      "(datetime.datetime(2019, 5, 14, 21, 3, 12), 'Brussel', u'1128405425601302529')\n",
      "(datetime.datetime(2019, 5, 14, 21, 3, 12), 'Where the streets have no name', u'1128405425538387973')\n",
      "(datetime.datetime(2019, 5, 14, 21, 3, 7), 'Ljubljana \\xf0\\x9f\\x87\\xb8\\xf0\\x9f\\x87\\xae/Vancouver \\xf0\\x9f\\x87\\xa8\\xf0\\x9f\\x87\\xa6', u'1128405402603991041')\n",
      "(datetime.datetime(2019, 5, 14, 21, 3, 1), 'Paris, France', u'1128405378457272321')\n",
      "(datetime.datetime(2019, 5, 14, 21, 2, 59), 'London', u'1128405371557699584')\n",
      "(datetime.datetime(2019, 5, 14, 21, 2, 55), '', u'1128405351198543874')\n",
      "(datetime.datetime(2019, 5, 14, 21, 2, 53), '\\xe2\\xa4\\xb4\\xef\\xb8\\x8f Active les notifications \\xe2\\xa4\\xb4\\xef\\xb8\\x8f', u'1128405344403763200')\n",
      "(datetime.datetime(2019, 5, 14, 21, 2, 48), 'Paris, France', u'1128405323772047362')\n",
      "(datetime.datetime(2019, 5, 14, 21, 2, 45), 'D\\xc3\\xbcsseldorf, Deutschland', u'1128405310727688192')\n",
      "(datetime.datetime(2019, 5, 14, 21, 2, 45), 'Bulgaria', u'1128405308685025282')\n",
      "(datetime.datetime(2019, 5, 14, 21, 2, 37), 'Roma, IT', u'1128405276917469184')\n",
      "(datetime.datetime(2019, 5, 14, 21, 2, 27), 'Ireland', u'1128405235733544963')\n",
      "(datetime.datetime(2019, 5, 14, 21, 2, 25), 'Vicenza, Italy', u'1128405228263493632')\n",
      "(datetime.datetime(2019, 5, 14, 21, 2, 8), 'Annecy, France', u'1128405155169361922')\n",
      "(datetime.datetime(2019, 5, 14, 21, 2, 4), 'Amsterdam, The Netherlands', u'1128405140699058177')\n",
      "(datetime.datetime(2019, 5, 14, 21, 2, 1), 'Barcelona, Espa\\xc3\\xb1a', u'1128405127990259720')\n",
      "(datetime.datetime(2019, 5, 14, 21, 1, 58), 'Ede, Netherlands', u'1128405113146572801')\n",
      "(datetime.datetime(2019, 5, 14, 21, 1, 56), '', u'1128405106221776896')\n",
      "(datetime.datetime(2019, 5, 14, 21, 1, 56), 'Barcelona', u'1128405105412333569')\n",
      "(datetime.datetime(2019, 5, 14, 21, 1, 55), 'Manchester, UK', u'1128405102191050752')\n",
      "(datetime.datetime(2019, 5, 14, 21, 1, 50), '\\xf0\\x9f\\x87\\xb5\\xf0\\x9f\\x87\\xad', u'1128405081047453696')\n",
      "(datetime.datetime(2019, 5, 14, 21, 1, 49), 'K\\xc3\\xb3pavogur', u'1128405076471689216')\n",
      "(datetime.datetime(2019, 5, 14, 21, 1, 49), 'saw narry/4 | gideon | f', u'1128405075293032453')\n",
      "(datetime.datetime(2019, 5, 14, 21, 1, 45), 'The second star to the right', u'1128405059207860224')\n",
      "(datetime.datetime(2019, 5, 14, 21, 1, 42), 'Vienna', u'1128405045454737408')\n",
      "(datetime.datetime(2019, 5, 14, 21, 1, 38), 'Porto', u'1128405030200053761')\n",
      "(datetime.datetime(2019, 5, 14, 21, 1, 37), 'France', u'1128405025577996289')\n",
      "(datetime.datetime(2019, 5, 14, 21, 1, 33), 'Home', u'1128405008762966017')\n",
      "(datetime.datetime(2019, 5, 14, 21, 1, 27), '', u'1128404985564270594')\n",
      "(datetime.datetime(2019, 5, 14, 21, 1, 26), 'Gent, Belgi\\xc3\\xab', u'1128404978043969537')\n",
      "(datetime.datetime(2019, 5, 14, 21, 1, 26), 'Berlin, Deutschland', u'1128404977502887937')\n",
      "(datetime.datetime(2019, 5, 14, 21, 1, 25), 'Ambreigns City, Bitchez', u'1128404976483688448')\n",
      "(datetime.datetime(2019, 5, 14, 21, 1, 25), 'Oldenburg in Oldenburg', u'1128404974449438721')\n",
      "(datetime.datetime(2019, 5, 14, 21, 1, 23), '', u'1128404968711622660')\n",
      "(datetime.datetime(2019, 5, 14, 21, 1, 21), 'Beograd', u'1128404958230065163')\n",
      "(datetime.datetime(2019, 5, 14, 21, 1, 19), 'D\\xc3\\xbcsseldorf', u'1128404951871426560')\n",
      "(datetime.datetime(2019, 5, 14, 21, 1, 18), 'Belgium', u'1128404944640458752')\n",
      "(datetime.datetime(2019, 5, 14, 21, 1, 16), 'Valkeakoski, Finland', u'1128404935618514946')\n",
      "(datetime.datetime(2019, 5, 14, 21, 1, 15), '', u'1128404933273890817')\n",
      "(datetime.datetime(2019, 5, 14, 21, 1, 10), \"People's Republic of Tooting\", u'1128404910788284416')\n",
      "(datetime.datetime(2019, 5, 14, 21, 1, 8), 'Cheltenham', u'1128404904266096646')\n",
      "(datetime.datetime(2019, 5, 14, 21, 1, 3), 'Paris, France', u'1128404881784627202')\n",
      "(datetime.datetime(2019, 5, 14, 21, 1, 1), 'Italy', u'1128404873299492864')\n",
      "(datetime.datetime(2019, 5, 14, 21, 1), 'somerset by the seeaa', u'1128404868757184512')\n",
      "(datetime.datetime(2019, 5, 14, 21, 0, 57), 'Belgrade, Republic of Serbia', u'1128404858653089792')\n",
      "(datetime.datetime(2019, 5, 14, 21, 0, 50), 'Italy', u'1128404829020274689')\n",
      "(datetime.datetime(2019, 5, 14, 21, 0, 41), 'Laura is my parabatai', u'1128404790478815234')\n",
      "(datetime.datetime(2019, 5, 14, 21, 0, 37), 'Pozna\\xc5\\x84', u'1128404775542898688')\n",
      "(datetime.datetime(2019, 5, 14, 21, 0, 34), 'Ireland', u'1128404760732811271')\n",
      "(datetime.datetime(2019, 5, 14, 21, 0, 31), 'Oldham, England', u'1128404748066086912')\n",
      "(datetime.datetime(2019, 5, 14, 21, 0, 29), '', u'1128404740319186944')\n",
      "(datetime.datetime(2019, 5, 14, 21, 0, 18), 'Sydney, Australia', u'1128404693669928960')\n",
      "(datetime.datetime(2019, 5, 14, 21, 0, 16), 'Essen DE', u'1128404685331881984')\n",
      "(datetime.datetime(2019, 5, 14, 21, 0, 16), 'Poland', u'1128404684438409216')\n",
      "(datetime.datetime(2019, 5, 14, 21, 0, 14), 'Merseyside, England, UK', u'1128404678956523520')\n",
      "(datetime.datetime(2019, 5, 14, 21, 0, 14), 'Slovenia', u'1128404677975003136')\n",
      "(datetime.datetime(2019, 5, 14, 21, 0, 10), '', u'1128404658710503424')\n",
      "(datetime.datetime(2019, 5, 14, 21, 0, 9), 'nl', u'1128404654751141894')\n",
      "(datetime.datetime(2019, 5, 14, 21, 0, 5), '283B88 | germany', u'1128404637751619584')\n",
      "(datetime.datetime(2019, 5, 14, 21, 0), 'Alcal\\xc3\\xa1 de Guada\\xc3\\xadra - Sevilla', u'1128404619351285760')\n",
      "(datetime.datetime(2019, 5, 14, 20, 59, 46), 'Sint-Jans-Molenbeek, Belgi\\xc3\\xab', u'1128404561398575104')\n",
      "(datetime.datetime(2019, 5, 14, 20, 59, 42), 'Home', u'1128404542419345408')\n",
      "(datetime.datetime(2019, 5, 14, 20, 59, 42), 'Cambridge, England', u'1128404541295222791')\n",
      "(datetime.datetime(2019, 5, 14, 20, 59, 15), '', u'1128404431568027648')\n",
      "(datetime.datetime(2019, 5, 14, 20, 57, 59), 'saw narry/4 | gideon | f', u'1128404112230506497')\n",
      "(datetime.datetime(2019, 5, 14, 20, 57, 31), '\\xc3\\x96rebro, Sweden', u'1128403993535963138')\n",
      "(datetime.datetime(2019, 5, 14, 20, 57, 9), 'Helsinki/Jyv\\xc3\\xa4skyl\\xc3\\xa4, Finland', u'1128403900413902848')\n",
      "(datetime.datetime(2019, 5, 14, 20, 56, 58), 'Merseyside, England, UK', u'1128403856092741632')\n",
      "(datetime.datetime(2019, 5, 14, 20, 51, 45), 'Rohnert Park, CA', u'1128402543938138112')\n",
      "(datetime.datetime(2019, 5, 14, 20, 39, 43), 'In the TARDIS with the Doctor', u'1128399512387686401')\n",
      "(datetime.datetime(2019, 5, 14, 20, 15, 57), '', u'1128393534787264513')\n",
      "(datetime.datetime(2019, 5, 14, 20, 14, 5), 'Salt Lake City, Utah', u'1128393063640862720')\n"
     ]
    },
    {
     "name": "stdout",
     "output_type": "stream",
     "text": [
      "(datetime.datetime(2019, 5, 14, 20, 12, 18), '', u'1128392614875672576')\n",
      "(datetime.datetime(2019, 5, 14, 20, 6, 12), 'Paris, France', u'1128391081215897601')\n",
      "(datetime.datetime(2019, 5, 14, 20, 4, 48), 'College Station, TX', u'1128390728521080833')\n",
      "(datetime.datetime(2019, 5, 14, 20, 4, 45), 'Herentals', u'1128390714151383043')\n",
      "(datetime.datetime(2019, 5, 14, 20, 1, 53), 'Lvl4,FDB Bldg,Vic Parade, Suva', u'1128389991451676673')\n",
      "(datetime.datetime(2019, 5, 14, 19, 42, 51), '', u'1128385204672815104')\n",
      "(datetime.datetime(2019, 5, 14, 19, 38, 32), 'England, United Kingdom', u'1128384115789713408')\n",
      "(datetime.datetime(2019, 5, 14, 19, 38, 15), 'London, England', u'1128384046621392896')\n",
      "(datetime.datetime(2019, 5, 14, 19, 38, 8), 'Nottingham, England', u'1128384017357844485')\n",
      "(datetime.datetime(2019, 5, 14, 19, 38, 4), 'In the air somewhere!', u'1128383999435517952')\n",
      "(datetime.datetime(2019, 5, 14, 19, 37, 44), 'Glasgow, UK', u'1128383916476444677')\n",
      "(datetime.datetime(2019, 5, 14, 19, 37, 30), 'London, England', u'1128383856397230080')\n",
      "(datetime.datetime(2019, 5, 14, 19, 37, 6), 'Polska', u'1128383756832841729')\n",
      "(datetime.datetime(2019, 5, 14, 19, 36, 44), 'Merseyside, England, UK', u'1128383665187299331')\n",
      "(datetime.datetime(2019, 5, 14, 19, 36, 41), ' Middlesbrough ', u'1128383652000411649')\n",
      "(datetime.datetime(2019, 5, 14, 19, 36, 41), 'Newcastle Upon Tyne, England', u'1128383649957781504')\n",
      "(datetime.datetime(2019, 5, 14, 19, 36, 31), 'Edmonton', u'1128383608459354117')\n",
      "(datetime.datetime(2019, 5, 14, 19, 36, 23), 'London', u'1128383574107926530')\n",
      "(datetime.datetime(2019, 5, 14, 19, 36, 15), 'Wiltshire', u'1128383543682457600')\n",
      "(datetime.datetime(2019, 5, 14, 19, 36, 9), 'Doncaster, England', u'1128383516260089857')\n",
      "(datetime.datetime(2019, 5, 14, 19, 35, 45), '', u'1128383415001210880')\n",
      "(datetime.datetime(2019, 5, 14, 19, 35, 29), 'Merseyside, England, UK', u'1128383350308311041')\n",
      "(datetime.datetime(2019, 5, 14, 19, 34, 4), 'Nokia-Tampere-Muu Suomi', u'1128382994115440640')\n",
      "(datetime.datetime(2019, 5, 14, 19, 30, 55), 'Bretagne, France', u'1128382201467371520')\n",
      "(datetime.datetime(2019, 5, 14, 19, 29, 23), 'Ireland', u'1128381815838916608')\n",
      "(datetime.datetime(2019, 5, 14, 19, 16, 51), 'Reno, NV', u'1128378661357277184')\n",
      "(datetime.datetime(2019, 5, 14, 19, 16, 18), '', u'1128378520428740610')\n",
      "(datetime.datetime(2019, 5, 14, 19, 12, 35), '', u'1128377588378894336')\n",
      "(datetime.datetime(2019, 5, 14, 19, 11, 3), 'Washington, DC', u'1128377199038554112')\n",
      "(datetime.datetime(2019, 5, 14, 19, 10, 2), 'Nokia-Tampere-Muu Suomi', u'1128376944763047936')\n",
      "(datetime.datetime(2019, 5, 14, 21, 6, 6), 'Paris, France', u'1128406154701410309')\n",
      "(datetime.datetime(2019, 5, 14, 21, 5, 39), 'Italy', u'1128406041262219264')\n",
      "(datetime.datetime(2019, 5, 14, 21, 5, 30), 'granada', u'1128406001118527492')\n",
      "(datetime.datetime(2019, 5, 14, 21, 5, 8), 'Berlin, Deutschland', u'1128405912287424512')\n",
      "(datetime.datetime(2019, 5, 14, 21, 4, 23), 'muc / heartbeat city', u'1128405722440589316')\n",
      "(datetime.datetime(2019, 5, 14, 21, 4, 17), 'Israel', u'1128405696112930818')\n",
      "(datetime.datetime(2019, 5, 14, 21, 4, 9), 'England, United Kingdom', u'1128405661543485440')\n",
      "(datetime.datetime(2019, 5, 14, 21, 4, 6), 'London UK', u'1128405648776028160')\n",
      "(datetime.datetime(2019, 5, 14, 21, 3, 57), 'Finland', u'1128405614831525890')\n",
      "(datetime.datetime(2019, 5, 14, 21, 3, 50), 'Where the streets have no name', u'1128405585295286272')\n",
      "(datetime.datetime(2019, 5, 14, 21, 3, 38), 'Hamburg, Germany', u'1128405534862761985')\n",
      "(datetime.datetime(2019, 5, 14, 21, 3, 32), 'Germany \\xf0\\x9f\\x87\\xa9\\xf0\\x9f\\x87\\xaa', u'1128405506354233351')\n",
      "(datetime.datetime(2019, 5, 14, 21, 3, 20), 'Im Herzen, Wien', u'1128405458463731712')\n",
      "(datetime.datetime(2019, 5, 14, 21, 3, 20), 'Vicenza, Italy', u'1128405457343852546')\n",
      "(datetime.datetime(2019, 5, 14, 21, 3, 19), 'UK', u'1128405452499423238')\n",
      "(datetime.datetime(2019, 5, 14, 21, 3, 14), 'Berlin, Deutschland', u'1128405433658556418')\n",
      "(datetime.datetime(2019, 5, 14, 21, 3, 14), 'Amsterdam', u'1128405432488345602')\n",
      "(datetime.datetime(2019, 5, 14, 21, 3, 13), \"People's Republic of Tooting\", u'1128405427543261189')\n",
      "(datetime.datetime(2019, 5, 14, 21, 3, 12), 'Israel', u'1128405425244839941')\n",
      "(datetime.datetime(2019, 5, 14, 21, 3, 12), 'Shelviville', u'1128405424238202880')\n",
      "(datetime.datetime(2019, 5, 14, 21, 3, 3), 'Bruxelles', u'1128405388053962754')\n",
      "(datetime.datetime(2019, 5, 14, 21, 3, 1), '', u'1128405377907920896')\n",
      "(datetime.datetime(2019, 5, 14, 21, 2, 51), 'Sydney, Australia', u'1128405334794489856')\n",
      "(datetime.datetime(2019, 5, 14, 21, 2, 48), '\\xf0\\x9f\\x87\\xb5\\xf0\\x9f\\x87\\xad', u'1128405322714849280')\n",
      "(datetime.datetime(2019, 5, 14, 21, 2, 45), 'Torino', u'1128405311872806915')\n",
      "(datetime.datetime(2019, 5, 14, 21, 2, 20), '', u'1128405206214037504')\n",
      "(datetime.datetime(2019, 5, 14, 21, 1, 54), 'Zagreb, Croatia', u'1128405097753522183')\n",
      "(datetime.datetime(2019, 5, 14, 21, 1, 49), 'Italy', u'1128405073967616001')\n",
      "(datetime.datetime(2019, 5, 14, 21, 0, 34), 'Athens,Greece', u'1128404763270316032')\n",
      "(datetime.datetime(2019, 5, 14, 20, 59, 15), '', u'1128404431568027648')\n",
      "(datetime.datetime(2019, 5, 14, 20, 58, 24), 'Herenthout, Belgium', u'1128404215204909057')\n",
      "(datetime.datetime(2019, 5, 14, 20, 45, 5), 'Tizayuca, Hidalgo', u'1128400862819254272')\n",
      "(datetime.datetime(2019, 5, 14, 20, 40, 58), 'turbo folk glam', u'1128399829414154242')\n",
      "(datetime.datetime(2019, 5, 14, 20, 40, 49), '', u'1128399789308219392')\n",
      "(datetime.datetime(2019, 5, 14, 20, 39, 51), 'Athens,Greece', u'1128399548328624131')\n",
      "(datetime.datetime(2019, 5, 14, 20, 37, 21), '', u'1128398916809043973')\n",
      "(datetime.datetime(2019, 5, 14, 20, 35, 56), 'Nederland', u'1128398562319060993')\n",
      "(datetime.datetime(2019, 5, 14, 20, 35, 27), 'Melbourne, Australia', u'1128398441510342656')\n",
      "(datetime.datetime(2019, 5, 14, 20, 29, 13), 'Paris, Ile-de-France', u'1128396871943245826')\n",
      "(datetime.datetime(2019, 5, 14, 20, 25, 14), 'Nederland', u'1128395868019752962')\n",
      "(datetime.datetime(2019, 5, 14, 20, 20, 33), 'Herenthout, Belgium', u'1128394690854891520')\n",
      "(datetime.datetime(2019, 5, 14, 20, 15, 54), 'S\\xc3\\xbcdwesten', u'1128393522153951238')\n",
      "(datetime.datetime(2019, 5, 14, 20, 9, 11), '', u'1128391830322782209')\n",
      "(datetime.datetime(2019, 5, 14, 20, 9, 9), 'Ambreigns City, Bitchez', u'1128391821019754499')\n",
      "(datetime.datetime(2019, 5, 14, 20, 6, 17), 'Pays-Bas, (Europa) ', u'1128391099679236097')\n",
      "(datetime.datetime(2019, 5, 14, 19, 53, 51), 'Israel \\xf0\\x9f\\x87\\xae\\xf0\\x9f\\x87\\xb1', u'1128387972917755904')\n",
      "(datetime.datetime(2019, 5, 14, 19, 53, 38), 'Paris, France', u'1128387915409760256')\n",
      "(datetime.datetime(2019, 5, 14, 19, 37, 25), 'Kuopio, Suomi', u'1128383836872744961')\n",
      "(datetime.datetime(2019, 5, 14, 19, 27, 26), 'Alsace, France', u'1128381322190315520')\n",
      "(datetime.datetime(2019, 5, 14, 19, 10, 29), '', u'1128377056100790272')\n",
      "(datetime.datetime(2019, 5, 14, 19, 10, 21), 'United Kingdom', u'1128377024303837185')\n",
      "(datetime.datetime(2019, 5, 14, 19, 9, 49), 'Jerusalem-London', u'1128376888534151169')\n",
      "(datetime.datetime(2019, 5, 14, 19, 9, 34), '', u'1128376826294829057')\n",
      "(datetime.datetime(2019, 5, 14, 19, 7, 16), 'Belgie', u'1128376248751853568')\n",
      "(datetime.datetime(2019, 5, 14, 19, 4, 50), 'Oost-Vlaanderen', u'1128375638119854080')\n",
      "(datetime.datetime(2019, 5, 14, 19, 3, 38), 'Offenbach am Main, Deutschland', u'1128375332195713024')\n",
      "(datetime.datetime(2019, 5, 14, 19, 1, 9), 'Barcelona', u'1128374707768692736')\n",
      "(datetime.datetime(2019, 5, 14, 21, 28, 27), 'Tarapoto, Peru', u'1128411779237806081')\n",
      "(datetime.datetime(2019, 5, 14, 21, 19, 46), 'C\\xc3\\xa1diz - Tarragona - Madrid', u'1128409591266590720')\n",
      "(datetime.datetime(2019, 5, 14, 21, 15, 1), 'Madrid', u'1128408399060852737')\n",
      "(datetime.datetime(2019, 5, 14, 21, 14, 34), 'The Netherlands', u'1128408285042835456')\n",
      "(datetime.datetime(2019, 5, 14, 21, 9, 21), '', u'1128406972045434880')\n",
      "(datetime.datetime(2019, 5, 14, 21, 7, 25), '', u'1128406485069910016')\n",
      "(datetime.datetime(2019, 5, 14, 21, 5, 39), 'Italy', u'1128406041262219264')\n",
      "(datetime.datetime(2019, 5, 14, 21, 4, 17), 'Israel', u'1128405696112930818')\n",
      "(datetime.datetime(2019, 5, 14, 21, 3, 37), 'Paris, France', u'1128405529766789125')\n",
      "(datetime.datetime(2019, 5, 14, 21, 3, 24), 'BCN', u'1128405475723218950')\n",
      "(datetime.datetime(2019, 5, 14, 21, 3, 20), 'Stow, Scotland', u'1128405457863946241')\n",
      "(datetime.datetime(2019, 5, 14, 21, 3, 7), 'Kouvola, Finland', u'1128405404239781891')\n",
      "(datetime.datetime(2019, 5, 14, 21, 3), 'Espa\\xc3\\xb1a', u'1128405373235408896')\n",
      "(datetime.datetime(2019, 5, 14, 21, 2, 59), 'Turin & London', u'1128405367707316224')\n",
      "(datetime.datetime(2019, 5, 14, 21, 2, 46), 'Melbourne, Victoria', u'1128405313407688709')\n",
      "(datetime.datetime(2019, 5, 14, 21, 2, 44), 'Valle Hills', u'1128405308517298182')\n",
      "(datetime.datetime(2019, 5, 14, 21, 2, 41), 'Where the streets have no name', u'1128405296060280834')\n",
      "(datetime.datetime(2019, 5, 14, 21, 2, 41), 'Paris, France', u'1128405292633546753')\n",
      "(datetime.datetime(2019, 5, 14, 21, 1, 52), 'Esp\\xc3\\xadrito Santo', u'1128405088312135686')\n",
      "(datetime.datetime(2019, 5, 14, 21, 1, 52), '', u'1128405087888510977')\n",
      "(datetime.datetime(2019, 5, 14, 21, 1, 42), 'Ancona, Marche', u'1128405045005967366')\n",
      "(datetime.datetime(2019, 5, 14, 21, 1, 15), 'Moscow, Russia', u'1128404933341077509')\n",
      "(datetime.datetime(2019, 5, 14, 21, 1, 7), 'Oca\\xc3\\xb1a, Toledo', u'1128404900713512960')\n",
      "(datetime.datetime(2019, 5, 14, 21, 0, 57), 'London, England', u'1128404859290562565')\n",
      "(datetime.datetime(2019, 5, 14, 21, 0, 49), 'Milano', u'1128404822967947267')\n",
      "(datetime.datetime(2019, 5, 14, 21, 0, 41), 'London', u'1128404790046863360')\n",
      "(datetime.datetime(2019, 5, 14, 21, 0, 40), 'Bruxelles, Belgique', u'1128404786565517312')\n",
      "(datetime.datetime(2019, 5, 14, 21, 0, 40), '\\xc2\\xa4 1123, 6536, 5321 \\xc2\\xa4', u'1128404786016083970')\n",
      "(datetime.datetime(2019, 5, 14, 21, 0, 32), 'Budapest, Magyarorsz\\xc3\\xa1g', u'1128404752268693505')\n",
      "(datetime.datetime(2019, 5, 14, 21, 0, 24), 'Wigan, UK', u'1128404721444827138')\n",
      "(datetime.datetime(2019, 5, 14, 21, 0, 15), 'Hamburg, Deutschland', u'1128404682580340737')\n",
      "(datetime.datetime(2019, 5, 14, 21, 0, 15), 'Paris, France', u'1128404679866630149')\n",
      "(datetime.datetime(2019, 5, 14, 21, 0, 13), 'In A World Of My Own', u'1128404674330152960')\n",
      "(datetime.datetime(2019, 5, 14, 21, 0, 11), 'Vicenza, Italy', u'1128404663446003712')\n",
      "(datetime.datetime(2019, 5, 14, 21, 0, 5), '283B88 | germany', u'1128404637751619584')\n",
      "(datetime.datetime(2019, 5, 14, 21, 0, 2), 'Wicklow, Ireland', u'1128404627869847553')\n",
      "(datetime.datetime(2019, 5, 14, 20, 59, 59), \"People's Republic of Tooting\", u'1128404614368329733')\n",
      "(datetime.datetime(2019, 5, 14, 20, 59, 51), 'Montr\\xc3\\xa9al, Qu\\xc3\\xa9bec', u'1128404582395150336')\n",
      "(datetime.datetime(2019, 5, 14, 20, 59, 42), 'Poland', u'1128404545137070080')\n",
      "(datetime.datetime(2019, 5, 14, 20, 59, 40), 'Hamburg, Deutschland', u'1128404536517959680')\n",
      "(datetime.datetime(2019, 5, 14, 20, 59, 40), 'Utrecht, the Netherlands', u'1128404535557357570')\n",
      "(datetime.datetime(2019, 5, 14, 20, 59, 40), 'Paris, France', u'1128404534991175682')\n",
      "(datetime.datetime(2019, 5, 14, 20, 59, 39), 'Glasgow', u'1128404529370869760')\n",
      "(datetime.datetime(2019, 5, 14, 20, 59, 38), 'Belgium', u'1128404527542042625')\n",
      "(datetime.datetime(2019, 5, 14, 20, 59, 37), 'Medell\\xc3\\xadn, Colombia', u'1128404523939258370')\n",
      "(datetime.datetime(2019, 5, 14, 20, 59, 35), 'Any way the wind blows', u'1128404514472648704')\n",
      "(datetime.datetime(2019, 5, 14, 20, 59, 33), 'Liverpool', u'1128404507086479361')\n",
      "(datetime.datetime(2019, 5, 14, 20, 59, 32), 'Reykjav\\xc3\\xadk', u'1128404501579345924')\n",
      "(datetime.datetime(2019, 5, 14, 20, 59, 30), 'Ulverston', u'1128404493312385024')\n",
      "(datetime.datetime(2019, 5, 14, 20, 59, 27), 'muc / heartbeat city', u'1128404481916452866')\n",
      "(datetime.datetime(2019, 5, 14, 20, 59, 25), 'North Wales', u'1128404473204871168')\n",
      "(datetime.datetime(2019, 5, 14, 20, 59, 24), 'Wrexham, Wales', u'1128404469014847488')\n",
      "(datetime.datetime(2019, 5, 14, 20, 59, 23), 'Essen DE', u'1128404465114079237')\n",
      "(datetime.datetime(2019, 5, 14, 20, 59, 23), 'Second star to the right \\xe2\\x9c\\xa8', u'1128404462106816514')\n",
      "(datetime.datetime(2019, 5, 14, 20, 59, 20), 'solihull', u'1128404450933182466')\n",
      "(datetime.datetime(2019, 5, 14, 20, 59, 20), '', u'1128404450228559873')\n",
      "(datetime.datetime(2019, 5, 14, 20, 59, 15), '', u'1128404431568027648')\n",
      "(datetime.datetime(2019, 5, 14, 20, 59, 15), '', u'1128404431341543426')\n",
      "(datetime.datetime(2019, 5, 14, 20, 59, 15), 'Oslo, Norge', u'1128404428334223360')\n",
      "(datetime.datetime(2019, 5, 14, 20, 59, 15), 'M\\xc3\\xbcnchen', u'1128404428078424066')\n",
      "(datetime.datetime(2019, 5, 14, 20, 59, 13), '', u'1128404419589083137')\n",
      "(datetime.datetime(2019, 5, 14, 20, 59, 12), 'Italy', u'1128404418980909058')\n",
      "(datetime.datetime(2019, 5, 14, 20, 59, 12), '\\xf0\\x9f\\x87\\xae\\xf0\\x9f\\x87\\xb9\\xf0\\x9f\\x87\\xaa\\xf0\\x9f\\x87\\xba', u'1128404417198403584')\n",
      "(datetime.datetime(2019, 5, 14, 20, 59, 12), 'Laura is my parabatai', u'1128404416497889280')\n",
      "(datetime.datetime(2019, 5, 14, 20, 59, 11), 'Leeds, England', u'1128404414342008833')\n",
      "(datetime.datetime(2019, 5, 14, 20, 59, 7), 'Poland - Krak\\xc3\\xb3w/Gda\\xc5\\x84sk', u'1128404395551490048')\n",
      "(datetime.datetime(2019, 5, 14, 20, 58, 58), 'Plymouth, England', u'1128404360092889088')\n",
      "(datetime.datetime(2019, 5, 14, 20, 58, 57), 'Dublin', u'1128404353805582336')\n",
      "(datetime.datetime(2019, 5, 14, 20, 58, 55), 'London, England', u'1128404346444615680')\n",
      "(datetime.datetime(2019, 5, 14, 20, 58, 52), '', u'1128404334549577728')\n",
      "(datetime.datetime(2019, 5, 14, 20, 58, 47), 'Arnhem, Nederland', u'1128404314261807104')\n",
      "(datetime.datetime(2019, 5, 14, 20, 58, 47), 'Rome, Italy', u'1128404311103373317')\n",
      "(datetime.datetime(2019, 5, 14, 20, 58, 46), 'Trieste', u'1128404309203402752')\n",
      "(datetime.datetime(2019, 5, 14, 20, 58, 41), '', u'1128404288424878081')\n",
      "(datetime.datetime(2019, 5, 14, 20, 58, 40), 'New South Wales, Australia', u'1128404283089571840')\n",
      "(datetime.datetime(2019, 5, 14, 20, 58, 36), 'Nederland', u'1128404267218423809')\n",
      "(datetime.datetime(2019, 5, 14, 20, 58, 36), '', u'1128404266551431168')\n",
      "(datetime.datetime(2019, 5, 14, 20, 58, 32), 'Palermo - Milano solo andata', u'1128404248625078279')\n",
      "(datetime.datetime(2019, 5, 14, 20, 58, 30), 'Entre Donostia y Madrid', u'1128404242040066052')\n",
      "(datetime.datetime(2019, 5, 14, 20, 58, 28), 'solihull', u'1128404234112778240')\n",
      "(datetime.datetime(2019, 5, 14, 20, 58, 24), 'Serbia', u'1128404216152768520')\n",
      "(datetime.datetime(2019, 5, 14, 20, 58, 14), 'Biezenmortel', u'1128404172943036419')\n",
      "(datetime.datetime(2019, 5, 14, 20, 58, 13), 'Brisbane, Queensland', u'1128404170627616770')\n",
      "(datetime.datetime(2019, 5, 14, 20, 58, 13), 'Poland', u'1128404168207675392')\n",
      "(datetime.datetime(2019, 5, 14, 20, 58, 3), '\\xf0\\x9f\\x87\\xb5\\xf0\\x9f\\x87\\xad', u'1128404129322135552')\n",
      "(datetime.datetime(2019, 5, 14, 20, 57, 31), '\\xc3\\x96rebro, Sweden', u'1128403993535963138')\n",
      "(datetime.datetime(2019, 5, 14, 20, 40, 59), 'Tokyo Jpn', u'1128399834979823617')\n",
      "(datetime.datetime(2019, 5, 14, 20, 30, 24), '', u'1128397171152130048')\n",
      "(datetime.datetime(2019, 5, 14, 20, 21, 58), 'Madrid', u'1128395048108818441')\n",
      "(datetime.datetime(2019, 5, 14, 20, 20, 24), '', u'1128394651000549376')\n",
      "(datetime.datetime(2019, 5, 14, 20, 14, 10), 'Catalunya', u'1128393083438215168')\n",
      "(datetime.datetime(2019, 5, 14, 19, 27), 'Catalunya', u'1128381212878344194')\n",
      "(datetime.datetime(2019, 5, 14, 19, 15, 10), 'New York, NY', u'1128378238143746049')\n",
      "(datetime.datetime(2019, 5, 14, 18, 57, 24), 'Santiago, Chile', u'1128373767128911877')\n"
     ]
    },
    {
     "ename": "KeyboardInterrupt",
     "evalue": "",
     "output_type": "error",
     "traceback": [
      "\u001b[0;31m---------------------------------------------------------------------------\u001b[0m",
      "\u001b[0;31mKeyboardInterrupt\u001b[0m                         Traceback (most recent call last)",
      "\u001b[0;32m<ipython-input-16-68bd23d42a55>\u001b[0m in \u001b[0;36m<module>\u001b[0;34m()\u001b[0m\n\u001b[1;32m      1\u001b[0m \u001b[0mlist_of_names_of_countries\u001b[0m\u001b[0;34m=\u001b[0m\u001b[0;34m[\u001b[0m\u001b[0;34m'fra'\u001b[0m\u001b[0;34m,\u001b[0m\u001b[0;34m'isr'\u001b[0m\u001b[0;34m,\u001b[0m\u001b[0;34m'esp'\u001b[0m\u001b[0;34m,\u001b[0m\u001b[0;34m'FRANCE'\u001b[0m\u001b[0;34m,\u001b[0m\u001b[0;34m'ISRAEL'\u001b[0m\u001b[0;34m,\u001b[0m\u001b[0;34m'SPAIN'\u001b[0m\u001b[0;34m]\u001b[0m\u001b[0;34m\u001b[0m\u001b[0m\n\u001b[1;32m      2\u001b[0m \u001b[0;32mfor\u001b[0m \u001b[0mname_of_country\u001b[0m \u001b[0;32min\u001b[0m \u001b[0mlist_of_names_of_countries\u001b[0m\u001b[0;34m[\u001b[0m\u001b[0;36m0\u001b[0m\u001b[0;34m:\u001b[0m\u001b[0mlen\u001b[0m\u001b[0;34m(\u001b[0m\u001b[0mlist_of_names_of_countries\u001b[0m\u001b[0;34m)\u001b[0m\u001b[0;34m]\u001b[0m\u001b[0;34m:\u001b[0m\u001b[0;34m\u001b[0m\u001b[0m\n\u001b[0;32m----> 3\u001b[0;31m     \u001b[0;32mfor\u001b[0m \u001b[0mtweet\u001b[0m \u001b[0;32min\u001b[0m \u001b[0mtweepy\u001b[0m\u001b[0;34m.\u001b[0m\u001b[0mCursor\u001b[0m\u001b[0;34m(\u001b[0m\u001b[0mapi\u001b[0m\u001b[0;34m.\u001b[0m\u001b[0msearch\u001b[0m\u001b[0;34m,\u001b[0m\u001b[0mq\u001b[0m\u001b[0;34m=\u001b[0m\u001b[0;34m\"#\"\u001b[0m\u001b[0;34m+\u001b[0m\u001b[0mname_of_country\u001b[0m\u001b[0;34m,\u001b[0m\u001b[0mcount\u001b[0m\u001b[0;34m=\u001b[0m\u001b[0;36m100\u001b[0m\u001b[0;34m,\u001b[0m\u001b[0mmax_id\u001b[0m\u001b[0;34m=\u001b[0m\u001b[0mhigh_limit\u001b[0m\u001b[0;34m,\u001b[0m\u001b[0msince_id\u001b[0m\u001b[0;34m=\u001b[0m\u001b[0mlow_limit\u001b[0m\u001b[0;34m,\u001b[0m\u001b[0minclude_entitles\u001b[0m\u001b[0;34m=\u001b[0m\u001b[0mTrue\u001b[0m\u001b[0;34m)\u001b[0m\u001b[0;34m.\u001b[0m\u001b[0mitems\u001b[0m\u001b[0;34m(\u001b[0m\u001b[0;34m)\u001b[0m\u001b[0;34m:\u001b[0m\u001b[0;34m\u001b[0m\u001b[0m\n\u001b[0m\u001b[1;32m      4\u001b[0m         \u001b[0;32mtry\u001b[0m\u001b[0;34m:\u001b[0m\u001b[0;34m\u001b[0m\u001b[0m\n\u001b[1;32m      5\u001b[0m             \u001b[0mtext1\u001b[0m \u001b[0;34m=\u001b[0m \u001b[0mtweet\u001b[0m\u001b[0;34m.\u001b[0m\u001b[0mcreated_at\u001b[0m\u001b[0;34m\u001b[0m\u001b[0m\n",
      "\u001b[0;32m/Users/nevencaplar/anaconda2/lib/python2.7/site-packages/tweepy/cursor.pyc\u001b[0m in \u001b[0;36mnext\u001b[0;34m(self)\u001b[0m\n\u001b[1;32m    195\u001b[0m         \u001b[0;32mif\u001b[0m \u001b[0mself\u001b[0m\u001b[0;34m.\u001b[0m\u001b[0mcurrent_page\u001b[0m \u001b[0;32mis\u001b[0m \u001b[0mNone\u001b[0m \u001b[0;32mor\u001b[0m \u001b[0mself\u001b[0m\u001b[0;34m.\u001b[0m\u001b[0mpage_index\u001b[0m \u001b[0;34m==\u001b[0m \u001b[0mlen\u001b[0m\u001b[0;34m(\u001b[0m\u001b[0mself\u001b[0m\u001b[0;34m.\u001b[0m\u001b[0mcurrent_page\u001b[0m\u001b[0;34m)\u001b[0m \u001b[0;34m-\u001b[0m \u001b[0;36m1\u001b[0m\u001b[0;34m:\u001b[0m\u001b[0;34m\u001b[0m\u001b[0m\n\u001b[1;32m    196\u001b[0m             \u001b[0;31m# Reached end of current page, get the next page...\u001b[0m\u001b[0;34m\u001b[0m\u001b[0;34m\u001b[0m\u001b[0m\n\u001b[0;32m--> 197\u001b[0;31m             \u001b[0mself\u001b[0m\u001b[0;34m.\u001b[0m\u001b[0mcurrent_page\u001b[0m \u001b[0;34m=\u001b[0m \u001b[0mself\u001b[0m\u001b[0;34m.\u001b[0m\u001b[0mpage_iterator\u001b[0m\u001b[0;34m.\u001b[0m\u001b[0mnext\u001b[0m\u001b[0;34m(\u001b[0m\u001b[0;34m)\u001b[0m\u001b[0;34m\u001b[0m\u001b[0m\n\u001b[0m\u001b[1;32m    198\u001b[0m             \u001b[0mself\u001b[0m\u001b[0;34m.\u001b[0m\u001b[0mpage_index\u001b[0m \u001b[0;34m=\u001b[0m \u001b[0;34m-\u001b[0m\u001b[0;36m1\u001b[0m\u001b[0;34m\u001b[0m\u001b[0m\n\u001b[1;32m    199\u001b[0m         \u001b[0mself\u001b[0m\u001b[0;34m.\u001b[0m\u001b[0mpage_index\u001b[0m \u001b[0;34m+=\u001b[0m \u001b[0;36m1\u001b[0m\u001b[0;34m\u001b[0m\u001b[0m\n",
      "\u001b[0;32m/Users/nevencaplar/anaconda2/lib/python2.7/site-packages/tweepy/cursor.pyc\u001b[0m in \u001b[0;36mnext\u001b[0;34m(self)\u001b[0m\n\u001b[1;32m    106\u001b[0m \u001b[0;34m\u001b[0m\u001b[0m\n\u001b[1;32m    107\u001b[0m         \u001b[0;32mif\u001b[0m \u001b[0mself\u001b[0m\u001b[0;34m.\u001b[0m\u001b[0mindex\u001b[0m \u001b[0;34m>=\u001b[0m \u001b[0mlen\u001b[0m\u001b[0;34m(\u001b[0m\u001b[0mself\u001b[0m\u001b[0;34m.\u001b[0m\u001b[0mresults\u001b[0m\u001b[0;34m)\u001b[0m \u001b[0;34m-\u001b[0m \u001b[0;36m1\u001b[0m\u001b[0;34m:\u001b[0m\u001b[0;34m\u001b[0m\u001b[0m\n\u001b[0;32m--> 108\u001b[0;31m             \u001b[0mdata\u001b[0m \u001b[0;34m=\u001b[0m \u001b[0mself\u001b[0m\u001b[0;34m.\u001b[0m\u001b[0mmethod\u001b[0m\u001b[0;34m(\u001b[0m\u001b[0mmax_id\u001b[0m\u001b[0;34m=\u001b[0m\u001b[0mself\u001b[0m\u001b[0;34m.\u001b[0m\u001b[0mmax_id\u001b[0m\u001b[0;34m,\u001b[0m \u001b[0mparser\u001b[0m\u001b[0;34m=\u001b[0m\u001b[0mRawParser\u001b[0m\u001b[0;34m(\u001b[0m\u001b[0;34m)\u001b[0m\u001b[0;34m,\u001b[0m \u001b[0;34m*\u001b[0m\u001b[0mself\u001b[0m\u001b[0;34m.\u001b[0m\u001b[0margs\u001b[0m\u001b[0;34m,\u001b[0m \u001b[0;34m**\u001b[0m\u001b[0mself\u001b[0m\u001b[0;34m.\u001b[0m\u001b[0mkargs\u001b[0m\u001b[0;34m)\u001b[0m\u001b[0;34m\u001b[0m\u001b[0m\n\u001b[0m\u001b[1;32m    109\u001b[0m \u001b[0;34m\u001b[0m\u001b[0m\n\u001b[1;32m    110\u001b[0m             \u001b[0;32mif\u001b[0m \u001b[0mhasattr\u001b[0m\u001b[0;34m(\u001b[0m\u001b[0mself\u001b[0m\u001b[0;34m.\u001b[0m\u001b[0mmethod\u001b[0m\u001b[0;34m,\u001b[0m \u001b[0;34m'__self__'\u001b[0m\u001b[0;34m)\u001b[0m\u001b[0;34m:\u001b[0m\u001b[0;34m\u001b[0m\u001b[0m\n",
      "\u001b[0;32m/Users/nevencaplar/anaconda2/lib/python2.7/site-packages/tweepy/binder.py\u001b[0m in \u001b[0;36m_call\u001b[0;34m(*args, **kwargs)\u001b[0m\n\u001b[1;32m    250\u001b[0m             \u001b[0;32mreturn\u001b[0m \u001b[0mmethod\u001b[0m\u001b[0;34m\u001b[0m\u001b[0m\n\u001b[1;32m    251\u001b[0m         \u001b[0;32melse\u001b[0m\u001b[0;34m:\u001b[0m\u001b[0;34m\u001b[0m\u001b[0m\n\u001b[0;32m--> 252\u001b[0;31m             \u001b[0;32mreturn\u001b[0m \u001b[0mmethod\u001b[0m\u001b[0;34m.\u001b[0m\u001b[0mexecute\u001b[0m\u001b[0;34m(\u001b[0m\u001b[0;34m)\u001b[0m\u001b[0;34m\u001b[0m\u001b[0m\n\u001b[0m\u001b[1;32m    253\u001b[0m \u001b[0;34m\u001b[0m\u001b[0m\n\u001b[1;32m    254\u001b[0m     \u001b[0;31m# Set pagination mode\u001b[0m\u001b[0;34m\u001b[0m\u001b[0;34m\u001b[0m\u001b[0m\n",
      "\u001b[0;32m/Users/nevencaplar/anaconda2/lib/python2.7/site-packages/tweepy/binder.py\u001b[0m in \u001b[0;36mexecute\u001b[0;34m(self)\u001b[0m\n\u001b[1;32m    190\u001b[0m                                                 \u001b[0mtimeout\u001b[0m\u001b[0;34m=\u001b[0m\u001b[0mself\u001b[0m\u001b[0;34m.\u001b[0m\u001b[0mapi\u001b[0m\u001b[0;34m.\u001b[0m\u001b[0mtimeout\u001b[0m\u001b[0;34m,\u001b[0m\u001b[0;34m\u001b[0m\u001b[0m\n\u001b[1;32m    191\u001b[0m                                                 \u001b[0mauth\u001b[0m\u001b[0;34m=\u001b[0m\u001b[0mauth\u001b[0m\u001b[0;34m,\u001b[0m\u001b[0;34m\u001b[0m\u001b[0m\n\u001b[0;32m--> 192\u001b[0;31m                                                 proxies=self.api.proxy)\n\u001b[0m\u001b[1;32m    193\u001b[0m                 \u001b[0;32mexcept\u001b[0m \u001b[0mException\u001b[0m \u001b[0;32mas\u001b[0m \u001b[0me\u001b[0m\u001b[0;34m:\u001b[0m\u001b[0;34m\u001b[0m\u001b[0m\n\u001b[1;32m    194\u001b[0m                     \u001b[0msix\u001b[0m\u001b[0;34m.\u001b[0m\u001b[0mreraise\u001b[0m\u001b[0;34m(\u001b[0m\u001b[0mTweepError\u001b[0m\u001b[0;34m,\u001b[0m \u001b[0mTweepError\u001b[0m\u001b[0;34m(\u001b[0m\u001b[0;34m'Failed to send request: %s'\u001b[0m \u001b[0;34m%\u001b[0m \u001b[0me\u001b[0m\u001b[0;34m)\u001b[0m\u001b[0;34m,\u001b[0m \u001b[0msys\u001b[0m\u001b[0;34m.\u001b[0m\u001b[0mexc_info\u001b[0m\u001b[0;34m(\u001b[0m\u001b[0;34m)\u001b[0m\u001b[0;34m[\u001b[0m\u001b[0;36m2\u001b[0m\u001b[0;34m]\u001b[0m\u001b[0;34m)\u001b[0m\u001b[0;34m\u001b[0m\u001b[0m\n",
      "\u001b[0;32m/Users/nevencaplar/anaconda2/lib/python2.7/site-packages/requests/sessions.pyc\u001b[0m in \u001b[0;36mrequest\u001b[0;34m(self, method, url, params, data, headers, cookies, files, auth, timeout, allow_redirects, proxies, hooks, stream, verify, cert, json)\u001b[0m\n\u001b[1;32m    506\u001b[0m         }\n\u001b[1;32m    507\u001b[0m         \u001b[0msend_kwargs\u001b[0m\u001b[0;34m.\u001b[0m\u001b[0mupdate\u001b[0m\u001b[0;34m(\u001b[0m\u001b[0msettings\u001b[0m\u001b[0;34m)\u001b[0m\u001b[0;34m\u001b[0m\u001b[0m\n\u001b[0;32m--> 508\u001b[0;31m         \u001b[0mresp\u001b[0m \u001b[0;34m=\u001b[0m \u001b[0mself\u001b[0m\u001b[0;34m.\u001b[0m\u001b[0msend\u001b[0m\u001b[0;34m(\u001b[0m\u001b[0mprep\u001b[0m\u001b[0;34m,\u001b[0m \u001b[0;34m**\u001b[0m\u001b[0msend_kwargs\u001b[0m\u001b[0;34m)\u001b[0m\u001b[0;34m\u001b[0m\u001b[0m\n\u001b[0m\u001b[1;32m    509\u001b[0m \u001b[0;34m\u001b[0m\u001b[0m\n\u001b[1;32m    510\u001b[0m         \u001b[0;32mreturn\u001b[0m \u001b[0mresp\u001b[0m\u001b[0;34m\u001b[0m\u001b[0m\n",
      "\u001b[0;32m/Users/nevencaplar/anaconda2/lib/python2.7/site-packages/requests/sessions.pyc\u001b[0m in \u001b[0;36msend\u001b[0;34m(self, request, **kwargs)\u001b[0m\n\u001b[1;32m    616\u001b[0m \u001b[0;34m\u001b[0m\u001b[0m\n\u001b[1;32m    617\u001b[0m         \u001b[0;31m# Send the request\u001b[0m\u001b[0;34m\u001b[0m\u001b[0;34m\u001b[0m\u001b[0m\n\u001b[0;32m--> 618\u001b[0;31m         \u001b[0mr\u001b[0m \u001b[0;34m=\u001b[0m \u001b[0madapter\u001b[0m\u001b[0;34m.\u001b[0m\u001b[0msend\u001b[0m\u001b[0;34m(\u001b[0m\u001b[0mrequest\u001b[0m\u001b[0;34m,\u001b[0m \u001b[0;34m**\u001b[0m\u001b[0mkwargs\u001b[0m\u001b[0;34m)\u001b[0m\u001b[0;34m\u001b[0m\u001b[0m\n\u001b[0m\u001b[1;32m    619\u001b[0m \u001b[0;34m\u001b[0m\u001b[0m\n\u001b[1;32m    620\u001b[0m         \u001b[0;31m# Total elapsed time of the request (approximately)\u001b[0m\u001b[0;34m\u001b[0m\u001b[0;34m\u001b[0m\u001b[0m\n",
      "\u001b[0;32m/Users/nevencaplar/anaconda2/lib/python2.7/site-packages/requests/adapters.pyc\u001b[0m in \u001b[0;36msend\u001b[0;34m(self, request, stream, timeout, verify, cert, proxies)\u001b[0m\n\u001b[1;32m    438\u001b[0m                     \u001b[0mdecode_content\u001b[0m\u001b[0;34m=\u001b[0m\u001b[0mFalse\u001b[0m\u001b[0;34m,\u001b[0m\u001b[0;34m\u001b[0m\u001b[0m\n\u001b[1;32m    439\u001b[0m                     \u001b[0mretries\u001b[0m\u001b[0;34m=\u001b[0m\u001b[0mself\u001b[0m\u001b[0;34m.\u001b[0m\u001b[0mmax_retries\u001b[0m\u001b[0;34m,\u001b[0m\u001b[0;34m\u001b[0m\u001b[0m\n\u001b[0;32m--> 440\u001b[0;31m                     \u001b[0mtimeout\u001b[0m\u001b[0;34m=\u001b[0m\u001b[0mtimeout\u001b[0m\u001b[0;34m\u001b[0m\u001b[0m\n\u001b[0m\u001b[1;32m    441\u001b[0m                 )\n\u001b[1;32m    442\u001b[0m \u001b[0;34m\u001b[0m\u001b[0m\n",
      "\u001b[0;32m/Users/nevencaplar/anaconda2/lib/python2.7/site-packages/urllib3/connectionpool.pyc\u001b[0m in \u001b[0;36murlopen\u001b[0;34m(self, method, url, body, headers, retries, redirect, assert_same_host, timeout, pool_timeout, release_conn, chunked, body_pos, **response_kw)\u001b[0m\n\u001b[1;32m    599\u001b[0m                                                   \u001b[0mtimeout\u001b[0m\u001b[0;34m=\u001b[0m\u001b[0mtimeout_obj\u001b[0m\u001b[0;34m,\u001b[0m\u001b[0;34m\u001b[0m\u001b[0m\n\u001b[1;32m    600\u001b[0m                                                   \u001b[0mbody\u001b[0m\u001b[0;34m=\u001b[0m\u001b[0mbody\u001b[0m\u001b[0;34m,\u001b[0m \u001b[0mheaders\u001b[0m\u001b[0;34m=\u001b[0m\u001b[0mheaders\u001b[0m\u001b[0;34m,\u001b[0m\u001b[0;34m\u001b[0m\u001b[0m\n\u001b[0;32m--> 601\u001b[0;31m                                                   chunked=chunked)\n\u001b[0m\u001b[1;32m    602\u001b[0m \u001b[0;34m\u001b[0m\u001b[0m\n\u001b[1;32m    603\u001b[0m             \u001b[0;31m# If we're going to release the connection in ``finally:``, then\u001b[0m\u001b[0;34m\u001b[0m\u001b[0;34m\u001b[0m\u001b[0m\n",
      "\u001b[0;32m/Users/nevencaplar/anaconda2/lib/python2.7/site-packages/urllib3/connectionpool.pyc\u001b[0m in \u001b[0;36m_make_request\u001b[0;34m(self, conn, method, url, timeout, chunked, **httplib_request_kw)\u001b[0m\n\u001b[1;32m    378\u001b[0m         \u001b[0;32mtry\u001b[0m\u001b[0;34m:\u001b[0m\u001b[0;34m\u001b[0m\u001b[0m\n\u001b[1;32m    379\u001b[0m             \u001b[0;32mtry\u001b[0m\u001b[0;34m:\u001b[0m  \u001b[0;31m# Python 2.7, use buffering of HTTP responses\u001b[0m\u001b[0;34m\u001b[0m\u001b[0m\n\u001b[0;32m--> 380\u001b[0;31m                 \u001b[0mhttplib_response\u001b[0m \u001b[0;34m=\u001b[0m \u001b[0mconn\u001b[0m\u001b[0;34m.\u001b[0m\u001b[0mgetresponse\u001b[0m\u001b[0;34m(\u001b[0m\u001b[0mbuffering\u001b[0m\u001b[0;34m=\u001b[0m\u001b[0mTrue\u001b[0m\u001b[0;34m)\u001b[0m\u001b[0;34m\u001b[0m\u001b[0m\n\u001b[0m\u001b[1;32m    381\u001b[0m             \u001b[0;32mexcept\u001b[0m \u001b[0mTypeError\u001b[0m\u001b[0;34m:\u001b[0m  \u001b[0;31m# Python 2.6 and older, Python 3\u001b[0m\u001b[0;34m\u001b[0m\u001b[0m\n\u001b[1;32m    382\u001b[0m                 \u001b[0;32mtry\u001b[0m\u001b[0;34m:\u001b[0m\u001b[0;34m\u001b[0m\u001b[0m\n",
      "\u001b[0;32m/Users/nevencaplar/anaconda2/lib/python2.7/httplib.pyc\u001b[0m in \u001b[0;36mgetresponse\u001b[0;34m(self, buffering)\u001b[0m\n\u001b[1;32m   1119\u001b[0m \u001b[0;34m\u001b[0m\u001b[0m\n\u001b[1;32m   1120\u001b[0m         \u001b[0;32mtry\u001b[0m\u001b[0;34m:\u001b[0m\u001b[0;34m\u001b[0m\u001b[0m\n\u001b[0;32m-> 1121\u001b[0;31m             \u001b[0mresponse\u001b[0m\u001b[0;34m.\u001b[0m\u001b[0mbegin\u001b[0m\u001b[0;34m(\u001b[0m\u001b[0;34m)\u001b[0m\u001b[0;34m\u001b[0m\u001b[0m\n\u001b[0m\u001b[1;32m   1122\u001b[0m             \u001b[0;32massert\u001b[0m \u001b[0mresponse\u001b[0m\u001b[0;34m.\u001b[0m\u001b[0mwill_close\u001b[0m \u001b[0;34m!=\u001b[0m \u001b[0m_UNKNOWN\u001b[0m\u001b[0;34m\u001b[0m\u001b[0m\n\u001b[1;32m   1123\u001b[0m             \u001b[0mself\u001b[0m\u001b[0;34m.\u001b[0m\u001b[0m__state\u001b[0m \u001b[0;34m=\u001b[0m \u001b[0m_CS_IDLE\u001b[0m\u001b[0;34m\u001b[0m\u001b[0m\n",
      "\u001b[0;32m/Users/nevencaplar/anaconda2/lib/python2.7/httplib.pyc\u001b[0m in \u001b[0;36mbegin\u001b[0;34m(self)\u001b[0m\n\u001b[1;32m    436\u001b[0m         \u001b[0;31m# read until we get a non-100 response\u001b[0m\u001b[0;34m\u001b[0m\u001b[0;34m\u001b[0m\u001b[0m\n\u001b[1;32m    437\u001b[0m         \u001b[0;32mwhile\u001b[0m \u001b[0mTrue\u001b[0m\u001b[0;34m:\u001b[0m\u001b[0;34m\u001b[0m\u001b[0m\n\u001b[0;32m--> 438\u001b[0;31m             \u001b[0mversion\u001b[0m\u001b[0;34m,\u001b[0m \u001b[0mstatus\u001b[0m\u001b[0;34m,\u001b[0m \u001b[0mreason\u001b[0m \u001b[0;34m=\u001b[0m \u001b[0mself\u001b[0m\u001b[0;34m.\u001b[0m\u001b[0m_read_status\u001b[0m\u001b[0;34m(\u001b[0m\u001b[0;34m)\u001b[0m\u001b[0;34m\u001b[0m\u001b[0m\n\u001b[0m\u001b[1;32m    439\u001b[0m             \u001b[0;32mif\u001b[0m \u001b[0mstatus\u001b[0m \u001b[0;34m!=\u001b[0m \u001b[0mCONTINUE\u001b[0m\u001b[0;34m:\u001b[0m\u001b[0;34m\u001b[0m\u001b[0m\n\u001b[1;32m    440\u001b[0m                 \u001b[0;32mbreak\u001b[0m\u001b[0;34m\u001b[0m\u001b[0m\n",
      "\u001b[0;32m/Users/nevencaplar/anaconda2/lib/python2.7/httplib.pyc\u001b[0m in \u001b[0;36m_read_status\u001b[0;34m(self)\u001b[0m\n\u001b[1;32m    392\u001b[0m     \u001b[0;32mdef\u001b[0m \u001b[0m_read_status\u001b[0m\u001b[0;34m(\u001b[0m\u001b[0mself\u001b[0m\u001b[0;34m)\u001b[0m\u001b[0;34m:\u001b[0m\u001b[0;34m\u001b[0m\u001b[0m\n\u001b[1;32m    393\u001b[0m         \u001b[0;31m# Initialize with Simple-Response defaults\u001b[0m\u001b[0;34m\u001b[0m\u001b[0;34m\u001b[0m\u001b[0m\n\u001b[0;32m--> 394\u001b[0;31m         \u001b[0mline\u001b[0m \u001b[0;34m=\u001b[0m \u001b[0mself\u001b[0m\u001b[0;34m.\u001b[0m\u001b[0mfp\u001b[0m\u001b[0;34m.\u001b[0m\u001b[0mreadline\u001b[0m\u001b[0;34m(\u001b[0m\u001b[0m_MAXLINE\u001b[0m \u001b[0;34m+\u001b[0m \u001b[0;36m1\u001b[0m\u001b[0;34m)\u001b[0m\u001b[0;34m\u001b[0m\u001b[0m\n\u001b[0m\u001b[1;32m    395\u001b[0m         \u001b[0;32mif\u001b[0m \u001b[0mlen\u001b[0m\u001b[0;34m(\u001b[0m\u001b[0mline\u001b[0m\u001b[0;34m)\u001b[0m \u001b[0;34m>\u001b[0m \u001b[0m_MAXLINE\u001b[0m\u001b[0;34m:\u001b[0m\u001b[0;34m\u001b[0m\u001b[0m\n\u001b[1;32m    396\u001b[0m             \u001b[0;32mraise\u001b[0m \u001b[0mLineTooLong\u001b[0m\u001b[0;34m(\u001b[0m\u001b[0;34m\"header line\"\u001b[0m\u001b[0;34m)\u001b[0m\u001b[0;34m\u001b[0m\u001b[0m\n",
      "\u001b[0;32m/Users/nevencaplar/anaconda2/lib/python2.7/socket.pyc\u001b[0m in \u001b[0;36mreadline\u001b[0;34m(self, size)\u001b[0m\n\u001b[1;32m    478\u001b[0m             \u001b[0;32mwhile\u001b[0m \u001b[0mTrue\u001b[0m\u001b[0;34m:\u001b[0m\u001b[0;34m\u001b[0m\u001b[0m\n\u001b[1;32m    479\u001b[0m                 \u001b[0;32mtry\u001b[0m\u001b[0;34m:\u001b[0m\u001b[0;34m\u001b[0m\u001b[0m\n\u001b[0;32m--> 480\u001b[0;31m                     \u001b[0mdata\u001b[0m \u001b[0;34m=\u001b[0m \u001b[0mself\u001b[0m\u001b[0;34m.\u001b[0m\u001b[0m_sock\u001b[0m\u001b[0;34m.\u001b[0m\u001b[0mrecv\u001b[0m\u001b[0;34m(\u001b[0m\u001b[0mself\u001b[0m\u001b[0;34m.\u001b[0m\u001b[0m_rbufsize\u001b[0m\u001b[0;34m)\u001b[0m\u001b[0;34m\u001b[0m\u001b[0m\n\u001b[0m\u001b[1;32m    481\u001b[0m                 \u001b[0;32mexcept\u001b[0m \u001b[0merror\u001b[0m\u001b[0;34m,\u001b[0m \u001b[0me\u001b[0m\u001b[0;34m:\u001b[0m\u001b[0;34m\u001b[0m\u001b[0m\n\u001b[1;32m    482\u001b[0m                     \u001b[0;32mif\u001b[0m \u001b[0me\u001b[0m\u001b[0;34m.\u001b[0m\u001b[0margs\u001b[0m\u001b[0;34m[\u001b[0m\u001b[0;36m0\u001b[0m\u001b[0;34m]\u001b[0m \u001b[0;34m==\u001b[0m \u001b[0mEINTR\u001b[0m\u001b[0;34m:\u001b[0m\u001b[0;34m\u001b[0m\u001b[0m\n",
      "\u001b[0;32m/Users/nevencaplar/anaconda2/lib/python2.7/site-packages/urllib3/contrib/pyopenssl.pyc\u001b[0m in \u001b[0;36mrecv\u001b[0;34m(self, *args, **kwargs)\u001b[0m\n\u001b[1;32m    268\u001b[0m                 \u001b[0;32mraise\u001b[0m\u001b[0;34m\u001b[0m\u001b[0m\n\u001b[1;32m    269\u001b[0m         \u001b[0;32mexcept\u001b[0m \u001b[0mOpenSSL\u001b[0m\u001b[0;34m.\u001b[0m\u001b[0mSSL\u001b[0m\u001b[0;34m.\u001b[0m\u001b[0mWantReadError\u001b[0m\u001b[0;34m:\u001b[0m\u001b[0;34m\u001b[0m\u001b[0m\n\u001b[0;32m--> 270\u001b[0;31m             \u001b[0mrd\u001b[0m \u001b[0;34m=\u001b[0m \u001b[0mutil\u001b[0m\u001b[0;34m.\u001b[0m\u001b[0mwait_for_read\u001b[0m\u001b[0;34m(\u001b[0m\u001b[0mself\u001b[0m\u001b[0;34m.\u001b[0m\u001b[0msocket\u001b[0m\u001b[0;34m,\u001b[0m \u001b[0mself\u001b[0m\u001b[0;34m.\u001b[0m\u001b[0msocket\u001b[0m\u001b[0;34m.\u001b[0m\u001b[0mgettimeout\u001b[0m\u001b[0;34m(\u001b[0m\u001b[0;34m)\u001b[0m\u001b[0;34m)\u001b[0m\u001b[0;34m\u001b[0m\u001b[0m\n\u001b[0m\u001b[1;32m    271\u001b[0m             \u001b[0;32mif\u001b[0m \u001b[0;32mnot\u001b[0m \u001b[0mrd\u001b[0m\u001b[0;34m:\u001b[0m\u001b[0;34m\u001b[0m\u001b[0m\n\u001b[1;32m    272\u001b[0m                 \u001b[0;32mraise\u001b[0m \u001b[0mtimeout\u001b[0m\u001b[0;34m(\u001b[0m\u001b[0;34m'The read operation timed out'\u001b[0m\u001b[0;34m)\u001b[0m\u001b[0;34m\u001b[0m\u001b[0m\n",
      "\u001b[0;32m/Users/nevencaplar/anaconda2/lib/python2.7/site-packages/urllib3/util/wait.pyc\u001b[0m in \u001b[0;36mwait_for_read\u001b[0;34m(socks, timeout)\u001b[0m\n\u001b[1;32m     31\u001b[0m     \u001b[0;32mor\u001b[0m \u001b[0moptionally\u001b[0m \u001b[0ma\u001b[0m \u001b[0msingle\u001b[0m \u001b[0msocket\u001b[0m \u001b[0;32mif\u001b[0m \u001b[0mpassed\u001b[0m \u001b[0;32min\u001b[0m\u001b[0;34m.\u001b[0m \u001b[0mReturns\u001b[0m \u001b[0ma\u001b[0m \u001b[0mlist\u001b[0m \u001b[0mof\u001b[0m\u001b[0;34m\u001b[0m\u001b[0m\n\u001b[1;32m     32\u001b[0m     sockets that can be read from immediately. \"\"\"\n\u001b[0;32m---> 33\u001b[0;31m     \u001b[0;32mreturn\u001b[0m \u001b[0m_wait_for_io_events\u001b[0m\u001b[0;34m(\u001b[0m\u001b[0msocks\u001b[0m\u001b[0;34m,\u001b[0m \u001b[0mEVENT_READ\u001b[0m\u001b[0;34m,\u001b[0m \u001b[0mtimeout\u001b[0m\u001b[0;34m)\u001b[0m\u001b[0;34m\u001b[0m\u001b[0m\n\u001b[0m\u001b[1;32m     34\u001b[0m \u001b[0;34m\u001b[0m\u001b[0m\n\u001b[1;32m     35\u001b[0m \u001b[0;34m\u001b[0m\u001b[0m\n",
      "\u001b[0;32m/Users/nevencaplar/anaconda2/lib/python2.7/site-packages/urllib3/util/wait.pyc\u001b[0m in \u001b[0;36m_wait_for_io_events\u001b[0;34m(socks, events, timeout)\u001b[0m\n\u001b[1;32m     24\u001b[0m             \u001b[0mselector\u001b[0m\u001b[0;34m.\u001b[0m\u001b[0mregister\u001b[0m\u001b[0;34m(\u001b[0m\u001b[0msock\u001b[0m\u001b[0;34m,\u001b[0m \u001b[0mevents\u001b[0m\u001b[0;34m)\u001b[0m\u001b[0;34m\u001b[0m\u001b[0m\n\u001b[1;32m     25\u001b[0m         return [key[0].fileobj for key in\n\u001b[0;32m---> 26\u001b[0;31m                 selector.select(timeout) if key[1] & events]\n\u001b[0m\u001b[1;32m     27\u001b[0m \u001b[0;34m\u001b[0m\u001b[0m\n\u001b[1;32m     28\u001b[0m \u001b[0;34m\u001b[0m\u001b[0m\n",
      "\u001b[0;32m/Users/nevencaplar/anaconda2/lib/python2.7/site-packages/urllib3/util/selectors.pyc\u001b[0m in \u001b[0;36mselect\u001b[0;34m(self, timeout)\u001b[0m\n\u001b[1;32m    511\u001b[0m \u001b[0;34m\u001b[0m\u001b[0m\n\u001b[1;32m    512\u001b[0m             kevent_list = _syscall_wrapper(self._kqueue.control, True,\n\u001b[0;32m--> 513\u001b[0;31m                                            None, max_events, timeout)\n\u001b[0m\u001b[1;32m    514\u001b[0m \u001b[0;34m\u001b[0m\u001b[0m\n\u001b[1;32m    515\u001b[0m             \u001b[0;32mfor\u001b[0m \u001b[0mkevent\u001b[0m \u001b[0;32min\u001b[0m \u001b[0mkevent_list\u001b[0m\u001b[0;34m:\u001b[0m\u001b[0;34m\u001b[0m\u001b[0m\n",
      "\u001b[0;32m/Users/nevencaplar/anaconda2/lib/python2.7/site-packages/urllib3/util/selectors.pyc\u001b[0m in \u001b[0;36m_syscall_wrapper\u001b[0;34m(func, recalc_timeout, *args, **kwargs)\u001b[0m\n\u001b[1;32m     92\u001b[0m         \u001b[0;32mwhile\u001b[0m \u001b[0mresult\u001b[0m \u001b[0;32mis\u001b[0m \u001b[0m_SYSCALL_SENTINEL\u001b[0m\u001b[0;34m:\u001b[0m\u001b[0;34m\u001b[0m\u001b[0m\n\u001b[1;32m     93\u001b[0m             \u001b[0;32mtry\u001b[0m\u001b[0;34m:\u001b[0m\u001b[0;34m\u001b[0m\u001b[0m\n\u001b[0;32m---> 94\u001b[0;31m                 \u001b[0mresult\u001b[0m \u001b[0;34m=\u001b[0m \u001b[0mfunc\u001b[0m\u001b[0;34m(\u001b[0m\u001b[0;34m*\u001b[0m\u001b[0margs\u001b[0m\u001b[0;34m,\u001b[0m \u001b[0;34m**\u001b[0m\u001b[0mkwargs\u001b[0m\u001b[0;34m)\u001b[0m\u001b[0;34m\u001b[0m\u001b[0m\n\u001b[0m\u001b[1;32m     95\u001b[0m             \u001b[0;31m# OSError is thrown by select.select\u001b[0m\u001b[0;34m\u001b[0m\u001b[0;34m\u001b[0m\u001b[0m\n\u001b[1;32m     96\u001b[0m             \u001b[0;31m# IOError is thrown by select.epoll.poll\u001b[0m\u001b[0;34m\u001b[0m\u001b[0;34m\u001b[0m\u001b[0m\n",
      "\u001b[0;31mKeyboardInterrupt\u001b[0m: "
     ]
    }
   ],
   "source": [
    "list_of_names_of_countries=['fra','isr','esp','FRANCE','ISRAEL','SPAIN']\n",
    "for name_of_country in list_of_names_of_countries[0:len(list_of_names_of_countries)]:\n",
    "    for tweet in tweepy.Cursor(api.search,q=\"#\"+name_of_country,count=100,max_id=high_limit,since_id=low_limit,include_entitles=True).items():\n",
    "        try:\t\n",
    "            text1 = tweet.created_at\n",
    "            text2 = tweet.user.location.encode('utf-8')\n",
    "            text3 = tweet.id_str\n",
    "            print (text1,text2,text3)\n",
    "            result=[str(text1),\",\",text2,\",\",str(text3),\",newline,\"]\n",
    "            fullpath = (\"/Users/nevencaplar/Documents/Small/\"+str(EurovisionYear)+\"/Data/\"+name_of_country+\".txt\")\n",
    "            outfile = open(fullpath, 'a')\n",
    "            outfile.writelines(result)\n",
    "        except tweepy.TweepError:\n",
    "                time.sleep(60)\n",
    "        continue"
   ]
  },
  {
   "cell_type": "code",
   "execution_count": null,
   "metadata": {
    "collapsed": true
   },
   "outputs": [],
   "source": []
  },
  {
   "cell_type": "code",
   "execution_count": 21,
   "metadata": {
    "collapsed": true
   },
   "outputs": [],
   "source": [
    "# fixing wrong hashtag for slovenia, portugal\n",
    "list_of_names_of_countries=['svn','prt','grc']"
   ]
  },
  {
   "cell_type": "code",
   "execution_count": 22,
   "metadata": {
    "collapsed": true
   },
   "outputs": [],
   "source": [
    "for name_of_country in list_of_names_of_countries[0:len(list_of_names_of_countries)]:\n",
    "    for tweet in tweepy.Cursor(api.search,q=\"#\"+name_of_country,count=100,max_id=high_limit,since_id=low_limit,include_entitles=True).items():\n",
    "        try:\t\n",
    "            text1 = tweet.created_at\n",
    "            text2 = tweet.user.location.encode('utf-8')\n",
    "            text3 = tweet.id_str\n",
    "            result=[str(text1),\",\",text2,\",\",str(text3),\",newline,\"]\n",
    "            fullpath = (\"/Users/nevencaplar/Documents/Small/\"+str(EurovisionYear)+\"/Data/\"+name_of_country+\".txt\")\n",
    "            outfile = open(fullpath, 'a')\n",
    "            outfile.writelines(result)\n",
    "        except tweepy.TweepError:\n",
    "                time.sleep(60)\n",
    "        continue"
   ]
  },
  {
   "cell_type": "code",
   "execution_count": null,
   "metadata": {
    "collapsed": true
   },
   "outputs": [],
   "source": [
    "# I had very few from Czech Republic\n",
    "# I have manually put together output from CZECH and CZECHIA into CZECHIA file"
   ]
  },
  {
   "cell_type": "code",
   "execution_count": 24,
   "metadata": {
    "collapsed": true
   },
   "outputs": [],
   "source": [
    "list_of_names_of_countries=['CZECH','CZECHIA']\n",
    "for name_of_country in list_of_names_of_countries[0:len(list_of_names_of_countries)]:\n",
    "    for tweet in tweepy.Cursor(api.search,q=\"#\"+name_of_country,count=100,max_id=high_limit,since_id=low_limit,include_entitles=True).items():\n",
    "        try:\t\n",
    "            text1 = tweet.created_at\n",
    "            text2 = tweet.user.location.encode('utf-8')\n",
    "            text3 = tweet.id_str\n",
    "            #print (text1,text2,text3)\n",
    "            result=[str(text1),\",\",text2,\",\",str(text3),\",newline,\"]\n",
    "            fullpath = (\"/Users/nevencaplar/Documents/Small/\"+str(EurovisionYear)+\"/Data/\"+name_of_country+\".txt\")\n",
    "            outfile = open(fullpath, 'a')\n",
    "            outfile.writelines(result)\n",
    "        except tweepy.TweepError:\n",
    "                time.sleep(60)\n",
    "        continue"
   ]
  },
  {
   "cell_type": "code",
   "execution_count": null,
   "metadata": {
    "collapsed": true
   },
   "outputs": [],
   "source": []
  },
  {
   "cell_type": "markdown",
   "metadata": {},
   "source": [
    "# 2nd semi"
   ]
  },
  {
   "cell_type": "code",
   "execution_count": 8,
   "metadata": {
    "ExecuteTime": {
     "end_time": "2018-05-11T16:49:26.699118Z",
     "start_time": "2018-05-11T16:49:26.695602Z"
    },
    "collapsed": true
   },
   "outputs": [],
   "source": [
    "low_limit=1129095434788573185\n",
    "high_limit=1129133169788280832"
   ]
  },
  {
   "cell_type": "code",
   "execution_count": 9,
   "metadata": {
    "ExecuteTime": {
     "end_time": "2018-05-11T17:08:49.427746Z",
     "start_time": "2018-05-11T17:08:49.422291Z"
    },
    "collapsed": true
   },
   "outputs": [],
   "source": [
    "list_of_names_of_countries=['arm','irl','mda','sui','lat',\n",
    "                            'rou','den','swe','aut','cro',\n",
    "                            'mlt','ltu','rus','alb','nor'\n",
    "                            ,'ned','mkd','aze']"
   ]
  },
  {
   "cell_type": "code",
   "execution_count": 10,
   "metadata": {
    "ExecuteTime": {
     "end_time": "2018-05-11T18:28:33.767541Z",
     "start_time": "2018-05-11T17:08:49.832191Z"
    }
   },
   "outputs": [
    {
     "name": "stdout",
     "output_type": "stream",
     "text": [
      "Waiting for 549 seconds...\n",
      "Waiting for 647 seconds...\n",
      "Waiting for 234 seconds...\n"
     ]
    }
   ],
   "source": [
    "for name_of_country in list_of_names_of_countries[0:len(list_of_names_of_countries)]:\n",
    "    for tweet in tweepy.Cursor(api.search,q=\"#\"+name_of_country,count=100,max_id=high_limit,since_id=low_limit,include_entitles=True).items():\n",
    "        try:\t\n",
    "            text1 = tweet.created_at\n",
    "            text2 = tweet.user.location.encode('utf-8')\n",
    "            text3 = tweet.id_str\n",
    "            #print (text1,text2,text3)\n",
    "            result=[str(text1),\",\",text2,\",\",str(text3),\",newline,\"]\n",
    "            fullpath = (\"/Users/nevencaplar/Documents/Small/\"+str(EurovisionYear)+\"/Data/\"+name_of_country+\".txt\")\n",
    "            outfile = open(fullpath, 'a')\n",
    "            outfile.writelines(result)\n",
    "        except tweepy.TweepError:\n",
    "                time.sleep(60)\n",
    "        continue"
   ]
  },
  {
   "cell_type": "code",
   "execution_count": 11,
   "metadata": {
    "ExecuteTime": {
     "end_time": "2018-05-11T19:59:53.917494Z",
     "start_time": "2018-05-11T19:14:43.624435Z"
    }
   },
   "outputs": [
    {
     "name": "stdout",
     "output_type": "stream",
     "text": [
      "Waiting for 682 seconds...\n"
     ]
    }
   ],
   "source": [
    "list_of_names_of_countries=['ARMENIA','IRELAND','MOLDOVA','SWITZERLAND','LATVIA','ROMANIA','DENMARK',\n",
    "                            'SWEDEN','AUSTRIA','CROATIA','MALTA','LITHUANIA','RUSSIA',\n",
    "                            'ALBANIA','NORWAY','NETHERLANDS',\"MACEDONIA\",'AZERBAIJAN']\n",
    "for name_of_country in list_of_names_of_countries[0:len(list_of_names_of_countries)]:\n",
    "    for tweet in tweepy.Cursor(api.search,q=\"#\"+name_of_country,count=100,max_id=high_limit,since_id=low_limit,include_entitles=True).items():\n",
    "        try:\t\n",
    "            text1 = tweet.created_at\n",
    "            text2 = tweet.user.location.encode('utf-8')\n",
    "            text3 = tweet.id_str\n",
    "            #print (text1,text2,text3)\n",
    "            result=[str(text1),\",\",text2,\",\",str(text3),\",newline,\"]\n",
    "            fullpath = (\"/Users/nevencaplar/Documents/Small/\"+str(EurovisionYear)+\"/Data/\"+name_of_country+\".txt\")\n",
    "            outfile = open(fullpath, 'a')\n",
    "            outfile.writelines(result)\n",
    "        except tweepy.TweepError:\n",
    "                time.sleep(60)\n",
    "        continue"
   ]
  },
  {
   "cell_type": "code",
   "execution_count": 12,
   "metadata": {
    "ExecuteTime": {
     "end_time": "2018-05-11T20:44:12.955401Z",
     "start_time": "2018-05-11T20:21:45.172366Z"
    },
    "collapsed": true
   },
   "outputs": [],
   "source": [
    "list_of_names_of_countries=['ger','ita','gbr','GERMANY','ITALY','UK']\n",
    "for name_of_country in list_of_names_of_countries[0:len(list_of_names_of_countries)]:\n",
    "    for tweet in tweepy.Cursor(api.search,q=\"#\"+name_of_country,count=100,max_id=high_limit,since_id=low_limit,include_entitles=True).items():\n",
    "        try:\t\n",
    "            text1 = tweet.created_at\n",
    "            text2 = tweet.user.location.encode('utf-8')\n",
    "            text3 = tweet.id_str\n",
    "            #print (text1,text2,text3)\n",
    "            result=[str(text1),\",\",text2,\",\",str(text3),\",newline,\"]\n",
    "            fullpath = (\"/Users/nevencaplar/Documents/Small/\"+str(EurovisionYear)+\"/Data/\"+name_of_country+\".txt\")\n",
    "            outfile = open(fullpath, 'a')\n",
    "            outfile.writelines(result)\n",
    "        except tweepy.TweepError:\n",
    "                time.sleep(60)\n",
    "        continue"
   ]
  },
  {
   "cell_type": "code",
   "execution_count": null,
   "metadata": {
    "collapsed": true
   },
   "outputs": [],
   "source": []
  },
  {
   "cell_type": "code",
   "execution_count": 15,
   "metadata": {
    "collapsed": true
   },
   "outputs": [],
   "source": [
    "# fixing wrong hashtag for switzerland, latvia, denmark, croatia, netherlands\n",
    "list_of_names_of_countries=['che','lva','dnk','hrv','nld']"
   ]
  },
  {
   "cell_type": "code",
   "execution_count": 16,
   "metadata": {},
   "outputs": [
    {
     "name": "stdout",
     "output_type": "stream",
     "text": [
      "Waiting for 401 seconds...\n"
     ]
    }
   ],
   "source": [
    "for name_of_country in list_of_names_of_countries[0:len(list_of_names_of_countries)]:\n",
    "    for tweet in tweepy.Cursor(api.search,q=\"#\"+name_of_country,count=100,max_id=high_limit,since_id=low_limit,include_entitles=True).items():\n",
    "        try:\t\n",
    "            text1 = tweet.created_at\n",
    "            text2 = tweet.user.location.encode('utf-8')\n",
    "            text3 = tweet.id_str\n",
    "            #print (text1,text2,text3)\n",
    "            result=[str(text1),\",\",text2,\",\",str(text3),\",newline,\"]\n",
    "            fullpath = (\"/Users/nevencaplar/Documents/Small/\"+str(EurovisionYear)+\"/Data/\"+name_of_country+\".txt\")\n",
    "            outfile = open(fullpath, 'a')\n",
    "            outfile.writelines(result)\n",
    "        except tweepy.TweepError:\n",
    "                time.sleep(60)\n",
    "        continue"
   ]
  },
  {
   "cell_type": "code",
   "execution_count": null,
   "metadata": {
    "collapsed": true
   },
   "outputs": [],
   "source": []
  },
  {
   "cell_type": "code",
   "execution_count": null,
   "metadata": {
    "collapsed": true
   },
   "outputs": [],
   "source": []
  },
  {
   "cell_type": "code",
   "execution_count": null,
   "metadata": {
    "collapsed": true
   },
   "outputs": [],
   "source": []
  },
  {
   "cell_type": "code",
   "execution_count": null,
   "metadata": {
    "collapsed": true
   },
   "outputs": [],
   "source": []
  }
 ],
 "metadata": {
  "anaconda-cloud": {},
  "hide_input": false,
  "kernelspec": {
   "display_name": "Python [default]",
   "language": "python",
   "name": "python2"
  },
  "language_info": {
   "codemirror_mode": {
    "name": "ipython",
    "version": 2
   },
   "file_extension": ".py",
   "mimetype": "text/x-python",
   "name": "python",
   "nbconvert_exporter": "python",
   "pygments_lexer": "ipython2",
   "version": "2.7.14"
  },
  "toc": {
   "nav_menu": {},
   "number_sections": true,
   "sideBar": true,
   "skip_h1_title": false,
   "toc_cell": false,
   "toc_position": {},
   "toc_section_display": "block",
   "toc_window_display": false
  },
  "varInspector": {
   "cols": {
    "lenName": 16,
    "lenType": 16,
    "lenVar": 40
   },
   "kernels_config": {
    "python": {
     "delete_cmd_postfix": "",
     "delete_cmd_prefix": "del ",
     "library": "var_list.py",
     "varRefreshCmd": "print(var_dic_list())"
    },
    "r": {
     "delete_cmd_postfix": ") ",
     "delete_cmd_prefix": "rm(",
     "library": "var_list.r",
     "varRefreshCmd": "cat(var_dic_list()) "
    }
   },
   "types_to_exclude": [
    "module",
    "function",
    "builtin_function_or_method",
    "instance",
    "_Feature"
   ],
   "window_display": false
  }
 },
 "nbformat": 4,
 "nbformat_minor": 1
}
